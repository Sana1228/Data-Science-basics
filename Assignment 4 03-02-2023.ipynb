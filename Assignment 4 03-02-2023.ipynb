{
 "cells": [
  {
   "cell_type": "markdown",
   "id": "bd09a710",
   "metadata": {},
   "source": [
    "# Assignment 4"
   ]
  },
  {
   "cell_type": "markdown",
   "id": "46a86cec",
   "metadata": {},
   "source": [
    "## Date:- 03/02/2023"
   ]
  },
  {
   "cell_type": "markdown",
   "id": "72d1c53e",
   "metadata": {},
   "source": [
    "#### Q1. Which keyword is used to create a function? Create a function to return a list of odd numbers in the range of 1 to 25."
   ]
  },
  {
   "cell_type": "markdown",
   "id": "5d326c4a",
   "metadata": {},
   "source": [
    "Answer: The def keyword is used to create, (or define) a function in Python."
   ]
  },
  {
   "cell_type": "code",
   "execution_count": 11,
   "id": "6558ab50",
   "metadata": {},
   "outputs": [],
   "source": [
    "def fun():\n",
    "    l=[] #intializing the list to be returned\n",
    "    for i in range(1,25+1):\n",
    "        if i%2 != 0 :\n",
    "            l.append(i)\n",
    "    return l     "
   ]
  },
  {
   "cell_type": "code",
   "execution_count": 12,
   "id": "264ad95d",
   "metadata": {},
   "outputs": [
    {
     "data": {
      "text/plain": [
       "[1, 3, 5, 7, 9, 11, 13, 15, 17, 19, 21, 23, 25]"
      ]
     },
     "execution_count": 12,
     "metadata": {},
     "output_type": "execute_result"
    }
   ],
   "source": [
    "fun()"
   ]
  },
  {
   "cell_type": "markdown",
   "id": "9d9ed8bc",
   "metadata": {},
   "source": [
    "#### Q2. Why *args and **kwargs is used in some functions? Create a function each for *args and **kwargs to demonstrate their use."
   ]
  },
  {
   "cell_type": "markdown",
   "id": "bd5a8b87",
   "metadata": {},
   "source": [
    "Answer: In Python, we can pass a variable number of arguments to a function using special symbols. There are two special symbols:\n",
    "\n",
    "*args (Non Keyword Arguments):- Python has *args which allow us to pass the variable number of non keyword arguments to function.In the function, we should use an asterisk * before the parameter name to pass variable length arguments.The arguments are passed as a tuple and these passed arguments make tuple inside the function with same name as the parameter excluding asterisk *.\n",
    "\n",
    "** kwargs (Keyword Arguments):-  Python has ** kwargs which allow us to pass the variable length of keyword arguments to the function.The arguments are passed as a dictionary and these arguments make a dictionary inside function with name same as the parameter excluding double asterisk **.\n",
    "\n",
    "Example:-\n"
   ]
  },
  {
   "cell_type": "code",
   "execution_count": 15,
   "id": "1d1746f1",
   "metadata": {},
   "outputs": [
    {
     "name": "stdout",
     "output_type": "stream",
     "text": [
      "Sum: 13\n",
      "Sum: 82\n",
      "Sum: 157\n"
     ]
    }
   ],
   "source": [
    "#Example of *args()\n",
    "\n",
    "def addition(*num):\n",
    "    sum = 0\n",
    "    \n",
    "    for n in num:\n",
    "        sum = sum + n\n",
    "\n",
    "    print(\"Sum:\",sum)\n",
    "\n",
    "addition(8,5)\n",
    "addition(4,35,26,17)\n",
    "addition(1,12,23,75,46)"
   ]
  },
  {
   "cell_type": "code",
   "execution_count": 16,
   "id": "e2b49f9b",
   "metadata": {},
   "outputs": [
    {
     "name": "stdout",
     "output_type": "stream",
     "text": [
      "\n",
      "Data type of argument: <class 'dict'>\n",
      "Firstname is Sana\n",
      "Lastname is Simran\n",
      "Age is 23\n",
      "Phone is 1234567890\n",
      "\n",
      "Data type of argument: <class 'dict'>\n",
      "Firstname is Faruk\n",
      "Lastname is Hayat\n",
      "Email is farukhayat@gomail.com\n",
      "Country is Dreamland\n",
      "Age is 26\n",
      "Phone is 9876543210\n"
     ]
    }
   ],
   "source": [
    "#Example of ** kwargs()\n",
    "\n",
    "def demo(**data):\n",
    "    print(\"\\nData type of argument:\",type(data))\n",
    "\n",
    "    for key, value in data.items():\n",
    "        print(\"{} is {}\".format(key,value))\n",
    "\n",
    "demo(Firstname=\"Sana\", Lastname=\"Simran\", Age=23, Phone=1234567890)\n",
    "demo(Firstname=\"Faruk\", Lastname=\"Hayat\", Email=\"farukhayat@gomail.com\", Country=\"Dreamland\", Age=26, Phone=9876543210)"
   ]
  },
  {
   "cell_type": "markdown",
   "id": "cce8371c",
   "metadata": {},
   "source": [
    "#### Q3. What is an iterator in python? Name the method used to initialise the iterator object and the method used for iteration. Use \n",
    "\n",
    "#### these methods to print the first five elements of the given list [2, 4, 6, 8, 10, 12, 14, 16,18, 20]."
   ]
  },
  {
   "cell_type": "markdown",
   "id": "afbdad5d",
   "metadata": {},
   "source": [
    "Answer: An iterator is an object that contains a countable number of values. An iterator is an object that can be iterated upon, meaning that you can traverse through all the values. Technically, in Python, an iterator is an object which implements the iterator protocol, which consist of the methods __iter__() and __next__() .\n",
    "\n",
    "Technically, a Python iterator object must implement two special methods, __iter__() and __next__(), collectively called the iterator protocol.\n",
    "\n",
    "The __iter__() method acts similar, you can do operations (initializing etc.), but must always return the iterator object itself.Iter() method is used to initialize the iterator object so that the instance of this object can be used for iterating.\n",
    "\n",
    "The __next__() method also allows you to do operations, and must return the next item in the sequence."
   ]
  },
  {
   "cell_type": "code",
   "execution_count": 27,
   "id": "9816a918",
   "metadata": {},
   "outputs": [
    {
     "name": "stdout",
     "output_type": "stream",
     "text": [
      "2\n",
      "4\n",
      "6\n",
      "8\n",
      "10\n"
     ]
    }
   ],
   "source": [
    "#Example:-\n",
    "\n",
    "string = [2, 4, 6, 8, 10, 12, 14, 16,18, 20]\n",
    "ch_iterator = iter(string)\n",
    " \n",
    "for i in range(5):\n",
    "    print(next(ch_iterator))"
   ]
  },
  {
   "cell_type": "markdown",
   "id": "27666c4b",
   "metadata": {},
   "source": [
    "#### Q4. What is a generator function in python? Why yield keyword is used? Give an example of a generator function."
   ]
  },
  {
   "cell_type": "markdown",
   "id": "bb9c4908",
   "metadata": {},
   "source": [
    "Answer:- Python Generator functions allow you to declare a function that behaves likes an iterator, allowing programmers to make an iterator in a fast, easy, and clean way.Generators are a special class of functions that simplify the task of writing iterators. Regular functions compute a value and return it, but generators return an iterator that returns a stream of values.Whenever it needs to generate a value, it does so with the yield keyword rather than return. If the body of a def contains yield, the function automatically becomes a generator function.  "
   ]
  },
  {
   "cell_type": "code",
   "execution_count": 22,
   "id": "ef10272e",
   "metadata": {},
   "outputs": [],
   "source": [
    "#Fibonacci series\n",
    "\n",
    "def test_fib(n) :\n",
    "    a,b = 0,1\n",
    "    for i in range(n):\n",
    "        yield a \n",
    "        a,b = b ,a+b \n",
    "        "
   ]
  },
  {
   "cell_type": "code",
   "execution_count": 23,
   "id": "fc96c6f9",
   "metadata": {},
   "outputs": [
    {
     "name": "stdout",
     "output_type": "stream",
     "text": [
      "0\n",
      "1\n",
      "1\n",
      "2\n",
      "3\n",
      "5\n",
      "8\n",
      "13\n",
      "21\n",
      "34\n"
     ]
    }
   ],
   "source": [
    "for i in test_fib(10) : \n",
    "    print(i)"
   ]
  },
  {
   "cell_type": "markdown",
   "id": "7124bc25",
   "metadata": {},
   "source": [
    "#### Q5. Create a generator function for prime numbers less than 1000. Use the next() method to print the first 20 prime numbers."
   ]
  },
  {
   "cell_type": "code",
   "execution_count": 24,
   "id": "8e7f4d7d",
   "metadata": {},
   "outputs": [],
   "source": [
    "from math import sqrt\n",
    "\n",
    "def is_prime(n):\n",
    "    if (n <= 1):\n",
    "        return False\n",
    "    if (n == 2):\n",
    "        return True\n",
    "    if (n % 2 == 0):\n",
    "        return False\n",
    "\n",
    "    i = 3\n",
    "    while i <= sqrt(n):\n",
    "        if n % i == 0:\n",
    "            return False\n",
    "        i = i + 2\n",
    "\n",
    "    return True"
   ]
  },
  {
   "cell_type": "code",
   "execution_count": 25,
   "id": "7725e005",
   "metadata": {},
   "outputs": [],
   "source": [
    "def prime_generator():\n",
    "    n = 1\n",
    "    while True:\n",
    "        n += 1\n",
    "        if is_prime(n):\n",
    "            yield n"
   ]
  },
  {
   "cell_type": "code",
   "execution_count": 26,
   "id": "5d76b8d5",
   "metadata": {},
   "outputs": [
    {
     "name": "stdout",
     "output_type": "stream",
     "text": [
      "2\n",
      "3\n",
      "5\n",
      "7\n",
      "11\n",
      "13\n",
      "17\n",
      "19\n",
      "23\n",
      "29\n",
      "31\n",
      "37\n",
      "41\n",
      "43\n",
      "47\n",
      "53\n",
      "59\n",
      "61\n",
      "67\n",
      "71\n"
     ]
    }
   ],
   "source": [
    "generator = prime_generator()\n",
    "\n",
    "for i in range(20):\n",
    "    print(next(generator))"
   ]
  },
  {
   "cell_type": "code",
   "execution_count": null,
   "id": "03e558a2",
   "metadata": {},
   "outputs": [],
   "source": []
  }
 ],
 "metadata": {
  "kernelspec": {
   "display_name": "Python 3 (ipykernel)",
   "language": "python",
   "name": "python3"
  },
  "language_info": {
   "codemirror_mode": {
    "name": "ipython",
    "version": 3
   },
   "file_extension": ".py",
   "mimetype": "text/x-python",
   "name": "python",
   "nbconvert_exporter": "python",
   "pygments_lexer": "ipython3",
   "version": "3.9.12"
  }
 },
 "nbformat": 4,
 "nbformat_minor": 5
}
