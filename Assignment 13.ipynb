{
 "cells": [
  {
   "cell_type": "markdown",
   "id": "a1fe355f",
   "metadata": {},
   "source": [
    "# Assignment 13"
   ]
  },
  {
   "cell_type": "markdown",
   "id": "bea73d8f",
   "metadata": {},
   "source": [
    "## date:- 14/02/2023"
   ]
  },
  {
   "cell_type": "markdown",
   "id": "8be88b0e",
   "metadata": {},
   "source": [
    "#### Q1). What is multithreading in python? Why is it used? Name the module used to handle threads in python"
   ]
  },
  {
   "cell_type": "markdown",
   "id": "692fb48c",
   "metadata": {},
   "source": [
    "#### Answer:\n",
    "Multithreading in Python refers to a process of executing multiple threads concurrently within the same process. Each thread is a separate flow of execution that runs concurrently with other threads in the same program.\n",
    "\n",
    "Multithreading is used in Python to improve the performance of applications that need to perform multiple tasks simultaneously. By dividing a program into multiple threads, the program can utilize the available system resources more efficiently, and tasks can be executed faster. For example, a web server that handles multiple client requests simultaneously can benefit from using multithreading to improve its performance.\n",
    "\n",
    "The threading module is used to handle threads in Python. The threading module provides a way to create and manage threads in a Python program. It provides a simple and easy-to-use interface for creating and starting new threads, stopping threads, and synchronizing between threads."
   ]
  },
  {
   "cell_type": "markdown",
   "id": "76cdca56",
   "metadata": {},
   "source": [
    "#### Q2). Why threading module used? Write the use of the following functions\n",
    "1: activeCount()\n",
    "\n",
    "2: currentThread()\n",
    "\n",
    "3: enumerate()"
   ]
  },
  {
   "cell_type": "markdown",
   "id": "cf019490",
   "metadata": {},
   "source": [
    "#### Answer:\n",
    "The threading module is used in Python for creating, managing, and synchronizing threads in a program. It provides a simple and easy-to-use interface for creating and starting new threads, stopping threads, and synchronizing between threads.\n",
    "\n",
    "Here are the uses of the following functions in the threading module:\n",
    "\n",
    "1. activeCount() - This function returns the number of threads that are currently active in the program. It is used to get a count of the active threads, which can be useful for debugging and monitoring purposes.\n",
    "\n",
    "2. currentThread() - This function returns a reference to the current thread object. It can be used to get information about the current thread, such as its name, ID, and other attributes.\n",
    "\n",
    "3. enumerate() - This function returns a list of all the active thread objects in the program. It can be used to get information about all the threads in the program, such as their names, IDs, and other attributes. The returned list can then be used for monitoring and debugging purposes."
   ]
  },
  {
   "cell_type": "markdown",
   "id": "4b3c9af3",
   "metadata": {},
   "source": [
    "#### Q3). Explain the following functions\n",
    "1: run()\n",
    "\n",
    "2: start()\n",
    "\n",
    "3: join()\n",
    "\n",
    "4: isAlive()"
   ]
  },
  {
   "cell_type": "markdown",
   "id": "865e00e1",
   "metadata": {},
   "source": [
    "#### Answer:\n",
    "The following are some of the common functions associated with threads in Python:\n",
    "\n",
    "run() - This function is the entry point for the thread. When a thread is started, its run() method is called. You can override this method in your own subclass of the Thread class to define the behavior of the thread.\n",
    "\n",
    "start() - This function starts the thread's activity. It schedules the thread to be run on a separate CPU core, allowing it to run in parallel with other threads. Once started, the thread will call its run() method.\n",
    "\n",
    "join() - This function blocks the calling thread until the thread whose join() method is called completes or terminates. This is useful when you want to wait for a thread to finish before continuing with the rest of your program.\n",
    "\n",
    "isAlive() - This function returns True if the thread is currently executing, or False if it has completed or terminated. This can be useful for checking the status of a thread.\n"
   ]
  },
  {
   "cell_type": "markdown",
   "id": "f78a5bab",
   "metadata": {},
   "source": [
    "#### Q4). Write a python program to create two threads. Thread one must print the list of squares and thread two must print the list of cubes."
   ]
  },
  {
   "cell_type": "markdown",
   "id": "0125ae67",
   "metadata": {},
   "source": [
    "#### Answer:\n"
   ]
  },
  {
   "cell_type": "code",
   "execution_count": 1,
   "id": "877433b0",
   "metadata": {},
   "outputs": [
    {
     "name": "stdout",
     "output_type": "stream",
     "text": [
      "List of squares:\n",
      "0\n",
      "1\n",
      "4\n",
      "9\n",
      "16\n",
      "25\n",
      "36\n",
      "49\n",
      "64\n",
      "81\n",
      "List of cubes:\n",
      "0\n",
      "1\n",
      "8\n",
      "27\n",
      "64\n",
      "125\n",
      "216\n",
      "343\n",
      "512\n",
      "729\n",
      "Finished\n"
     ]
    }
   ],
   "source": [
    "import threading\n",
    "\n",
    "def print_squares():\n",
    "    squares = [x ** 2 for x in range(10)]\n",
    "    print(\"List of squares:\")\n",
    "    for square in squares:\n",
    "        print(square)\n",
    "\n",
    "def print_cubes():\n",
    "    cubes = [x ** 3 for x in range(10)]\n",
    "    print(\"List of cubes:\")\n",
    "    for cube in cubes:\n",
    "        print(cube)\n",
    "\n",
    "# Create two threads\n",
    "t1 = threading.Thread(target=print_squares)\n",
    "t2 = threading.Thread(target=print_cubes)\n",
    "\n",
    "# Start both threads\n",
    "t1.start()\n",
    "t2.start()\n",
    "\n",
    "# Wait for both threads to finish\n",
    "t1.join()\n",
    "t2.join()\n",
    "\n",
    "print(\"Finished\")"
   ]
  },
  {
   "cell_type": "markdown",
   "id": "bcc87fe4",
   "metadata": {},
   "source": [
    "#### Q5). State advantages and disadvantages of multithreading."
   ]
  },
  {
   "cell_type": "markdown",
   "id": "3fcc8923",
   "metadata": {},
   "source": [
    "#### Answer:\n",
    "Advantages of multithreading:\n",
    "\n",
    "1. Improved performance: Multithreading can significantly improve the performance of a program by allowing multiple tasks to be executed simultaneously, taking advantage of modern multi-core CPUs.\n",
    "\n",
    "2. Increased responsiveness: Multithreading can also improve the responsiveness of a program by allowing it to continue executing while waiting for I/O or other blocking operations to complete.\n",
    "\n",
    "3. Better resource utilization: Multithreading can help to better utilize resources like memory and CPU cycles by sharing them among threads instead of allocating them to a single thread.\n",
    "\n",
    "4. Simplified program structure: In some cases, multithreading can help to simplify the structure of a program by allowing it to be broken down into smaller, more manageable pieces that can be executed concurrently.\n",
    "\n",
    "Disadvantages of multithreading:\n",
    "\n",
    "1. Increased complexity: Multithreading can introduce additional complexity into a program, making it more difficult to design, implement, and debug.\n",
    "2. Synchronization overhead: Synchronization mechanisms like locks, semaphores, and atomic operations are necessary to coordinate access to shared resources and variables, but they can also introduce overhead and reduce performance.\n",
    "3. Difficult to debug: Multithreaded programs can be difficult to debug because they may exhibit non-deterministic behavior depending on the timing and order of thread executions.\n",
    "4. Resource contention: Multithreading can introduce resource contention, where multiple threads compete for the same resources, leading to delays and decreased performance."
   ]
  },
  {
   "cell_type": "markdown",
   "id": "1e2fb3d8",
   "metadata": {},
   "source": [
    "#### Q6). Explain deadlocks and race conditions."
   ]
  },
  {
   "cell_type": "markdown",
   "id": "c64eb27f",
   "metadata": {},
   "source": [
    "#### Answer:\n",
    "Deadlock and race conditions are two common problems in concurrent programming that can cause unexpected behavior in programs.\n",
    "\n",
    "##### Deadlock:\n",
    "A deadlock occurs when two or more threads are blocked and waiting for each other to release a resource, causing them to become stuck in a loop and unable to continue executing. Deadlocks can occur when multiple threads compete for resources that are not available or when they access shared resources in a non-atomic way. Deadlocks can be difficult to detect and resolve and can cause programs to hang or crash.\n",
    "For example, imagine two threads, Thread A and Thread B, each holding a resource that the other thread needs. If neither thread releases their resource, they will enter a deadlock and be stuck waiting for each other indefinitely, unable to proceed.\n",
    "\n",
    "##### Race Condition:\n",
    "A race condition occurs when two or more threads access a shared resource or variable at the same time, resulting in unexpected behavior or incorrect results. Race conditions can occur when multiple threads are accessing a shared resource without proper synchronization or coordination. Race conditions can cause data corruption, inconsistencies, or other unexpected outcomes.\n",
    "For example, imagine two threads, Thread A and Thread B, both attempting to modify a shared variable, x, at the same time. If Thread A reads the current value of x, increments it, and then writes the new value back to x, while Thread B does the same thing, the final value of x may be unpredictable, depending on the exact timing of the thread executions. This can lead to unexpected bugs and errors in the program.\n",
    "\n",
    "To avoid these problems, it is important to use proper synchronization techniques, such as locks, semaphores, and atomic operations, to coordinate access to shared resources and variables in a multi-threaded program. Proper synchronization can prevent deadlocks and race conditions and ensure that programs execute correctly and predictably."
   ]
  },
  {
   "cell_type": "code",
   "execution_count": null,
   "id": "a3a5a787",
   "metadata": {},
   "outputs": [],
   "source": []
  }
 ],
 "metadata": {
  "kernelspec": {
   "display_name": "Python 3 (ipykernel)",
   "language": "python",
   "name": "python3"
  },
  "language_info": {
   "codemirror_mode": {
    "name": "ipython",
    "version": 3
   },
   "file_extension": ".py",
   "mimetype": "text/x-python",
   "name": "python",
   "nbconvert_exporter": "python",
   "pygments_lexer": "ipython3",
   "version": "3.9.12"
  }
 },
 "nbformat": 4,
 "nbformat_minor": 5
}
