{
 "cells": [
  {
   "cell_type": "markdown",
   "id": "056a05b4",
   "metadata": {},
   "source": [
    "# Assignment 8"
   ]
  },
  {
   "cell_type": "markdown",
   "id": "0a5deff7",
   "metadata": {},
   "source": [
    "## Date : 07/02/2023"
   ]
  },
  {
   "cell_type": "markdown",
   "id": "d315b3d5",
   "metadata": {},
   "source": [
    "#### Q1. You are writing code for a company. The requirement of the company is that you create a python function that will check whether the password entered by the user is correct or not. The function should take the password as input and return the string “Valid Password” if the entered password follows the below-given password guidelines else it should return “Invalid Password”.\n",
    "\n",
    "#### Note: 1. The Password should contain at least two uppercase letters and at least two lowercase letters.\n",
    "\n",
    "####           2. The Password should contain at least a number and three special characters.\n",
    "\n",
    "####           3. The length of the password should be 10 characters long."
   ]
  },
  {
   "cell_type": "code",
   "execution_count": 24,
   "id": "3655728c",
   "metadata": {},
   "outputs": [],
   "source": [
    "import re\n",
    "S =\"APple@12_!\"\n",
    "\n",
    "def passw(password):\n",
    "    c=0\n",
    "    d=0\n",
    "    e=0\n",
    "    g=0\n",
    "    f ='[@_!#$%^&*()<>?/\\|}{~:]'\n",
    "    if len(password)!= 10:\n",
    "        return \"Invalid Password due to less length\"\n",
    "    else :\n",
    "        for i in password:\n",
    "            if i.isupper()== True:\n",
    "                c+=1\n",
    "            elif i.islower()== True:\n",
    "                d+=1\n",
    "            elif i.isnumeric()== True:\n",
    "                e+=1\n",
    "            elif i in f:\n",
    "                g+=1\n",
    "        if c>=2 and d>=2 and e>=1 and g>=3:\n",
    "            return \"Valid password\"\n",
    "        else:\n",
    "            return \"Invalid Password\"\n",
    "            "
   ]
  },
  {
   "cell_type": "code",
   "execution_count": 25,
   "id": "70f1903f",
   "metadata": {},
   "outputs": [
    {
     "data": {
      "text/plain": [
       "'Valid password'"
      ]
     },
     "execution_count": 25,
     "metadata": {},
     "output_type": "execute_result"
    }
   ],
   "source": [
    "passw(S)"
   ]
  },
  {
   "cell_type": "code",
   "execution_count": 26,
   "id": "7f729616",
   "metadata": {},
   "outputs": [
    {
     "data": {
      "text/plain": [
       "'Valid password'"
      ]
     },
     "execution_count": 26,
     "metadata": {},
     "output_type": "execute_result"
    }
   ],
   "source": [
    "A=\"SanA123@!#\"\n",
    "passw(A)"
   ]
  },
  {
   "cell_type": "markdown",
   "id": "78c8e0b4",
   "metadata": {},
   "source": [
    "#### Q2. Solve the below-given questions using at least one of the following:\n",
    "\n",
    "1. Lambda function\n",
    "\n",
    "2. Filter function\n",
    "\n",
    "3. Map function\n",
    "\n",
    "4. List Comprehension\n",
    "\n",
    ". Check if the string starts with a particular letter.\n",
    "\n",
    ". Check if the string is numeric.\n",
    "\n",
    ". Sort a list of tuples having fruit names and their quantity. [(\"mango\",99),(\"orange\",80), (\"grapes\", 1000)]\n",
    "\n",
    ". Find the squares of numbers from 1 to 10.\n",
    "\n",
    ". Find the cube root of numbers from 1 to 10.\n",
    "\n",
    ". Check if a given number is even.\n",
    "\n",
    ". Filter odd numbers from the given list.\n",
    "  [1,2,3,4,5,6,7,8,9,10]\n",
    "\n",
    ". Sort a list of integers into positive and negative integers lists. [1,2,3,4,5,6,-1,-2,-3,-4,-5,0]"
   ]
  },
  {
   "cell_type": "code",
   "execution_count": 32,
   "id": "8c146bfd",
   "metadata": {},
   "outputs": [
    {
     "name": "stdout",
     "output_type": "stream",
     "text": [
      "True\n"
     ]
    }
   ],
   "source": [
    "#To check if the string starts with a particular letter.\n",
    "starts_with = lambda x: True if x.startswith('I') else False\n",
    "print(starts_with('India'))\n"
   ]
  },
  {
   "cell_type": "code",
   "execution_count": 33,
   "id": "1735ab62",
   "metadata": {},
   "outputs": [
    {
     "name": "stdout",
     "output_type": "stream",
     "text": [
      "False\n"
     ]
    }
   ],
   "source": [
    "# To check if the string is numeric.\n",
    "is_numeric = lambda x: True if x.isnumeric() else False\n",
    "print(is_numeric ('India'))"
   ]
  },
  {
   "cell_type": "code",
   "execution_count": 44,
   "id": "a00653e5",
   "metadata": {},
   "outputs": [
    {
     "name": "stdout",
     "output_type": "stream",
     "text": [
      "[('orange', 80), ('mango', 99), ('grapes', 1000)]\n"
     ]
    }
   ],
   "source": [
    "#Sort a list of tuples having fruit names and their quantity. [(\"mango\",99),(\"orange\",80), (\"grapes\", 1000)]\n",
    "list1=[(\"mango\",99),(\"orange\",80), (\"grapes\", 1000)]\n",
    "list1.sort(key = lambda x: x[1])\n",
    "print(list1)"
   ]
  },
  {
   "cell_type": "code",
   "execution_count": 51,
   "id": "f04a3479",
   "metadata": {},
   "outputs": [
    {
     "name": "stdout",
     "output_type": "stream",
     "text": [
      "[1, 4, 9, 16, 25, 36, 49, 64, 81, 100]\n"
     ]
    }
   ],
   "source": [
    "#Find the squares of numbers from 1 to 10.\n",
    "l=[i for i in range(1,10+1)]\n",
    "print(list(map(lambda x: x**2,l)))"
   ]
  },
  {
   "cell_type": "code",
   "execution_count": 52,
   "id": "88c05cba",
   "metadata": {},
   "outputs": [
    {
     "name": "stdout",
     "output_type": "stream",
     "text": [
      "[1.0, 1.2599210498948732, 1.4422495703074083, 1.5874010519681994, 1.7099759466766968, 1.8171205928321397, 1.912931182772389, 2.0, 2.080083823051904, 2.154434690031884]\n"
     ]
    }
   ],
   "source": [
    "# Find the cube root of numbers from 1 to 10.\n",
    "l=[i for i in range(1,10+1)]\n",
    "print(list(map(lambda x: x**(1/3),l)))"
   ]
  },
  {
   "cell_type": "code",
   "execution_count": 54,
   "id": "9f75d1fe",
   "metadata": {},
   "outputs": [
    {
     "name": "stdout",
     "output_type": "stream",
     "text": [
      "True\n"
     ]
    }
   ],
   "source": [
    "#Check if a given number is even.\n",
    "ans=lambda x: True if x%2 ==0 else False\n",
    "print(ans(44))"
   ]
  },
  {
   "cell_type": "code",
   "execution_count": 55,
   "id": "d3bba408",
   "metadata": {},
   "outputs": [
    {
     "name": "stdout",
     "output_type": "stream",
     "text": [
      "[1, 3, 5, 7, 9]\n"
     ]
    }
   ],
   "source": [
    "#Filter odd numbers from the given list. [1,2,3,4,5,6,7,8,9,10]\n",
    "list1=[1,2,3,4,5,6,7,8,9,10]\n",
    "print(list(filter(lambda x:x%2!=0 , list1)))"
   ]
  },
  {
   "cell_type": "code",
   "execution_count": 78,
   "id": "e21c52ac",
   "metadata": {},
   "outputs": [],
   "source": [
    "#Sort a list of integers into positive and negative integers lists. [1,2,3,4,5,6,-1,-2,-3,-4,-5,0]\n",
    "list1= [1,2,3,4,5,6,-1,-5,-7,-8,-9,0]\n",
    "def solve(list1):\n",
    "    positive_int=list(filter(lambda x:x>0,list1))\n",
    "    negative_int=list(filter(lambda x:x<0,list1))\n",
    "    positive_int.sort()\n",
    "    negative_int.sort(reverse=True)\n",
    "    final_list= positive_int + negative_int\n",
    "    if 0 in list1:\n",
    "        final_list.append(0)\n",
    "    return final_list\n",
    "    "
   ]
  },
  {
   "cell_type": "code",
   "execution_count": 79,
   "id": "95962da7",
   "metadata": {},
   "outputs": [
    {
     "data": {
      "text/plain": [
       "[1, 2, 3, 4, 5, 6, -1, -5, -7, -8, -9, 0]"
      ]
     },
     "execution_count": 79,
     "metadata": {},
     "output_type": "execute_result"
    }
   ],
   "source": [
    "solve(list1)"
   ]
  },
  {
   "cell_type": "code",
   "execution_count": null,
   "id": "90ba9593",
   "metadata": {},
   "outputs": [],
   "source": []
  }
 ],
 "metadata": {
  "kernelspec": {
   "display_name": "Python 3 (ipykernel)",
   "language": "python",
   "name": "python3"
  },
  "language_info": {
   "codemirror_mode": {
    "name": "ipython",
    "version": 3
   },
   "file_extension": ".py",
   "mimetype": "text/x-python",
   "name": "python",
   "nbconvert_exporter": "python",
   "pygments_lexer": "ipython3",
   "version": "3.9.12"
  }
 },
 "nbformat": 4,
 "nbformat_minor": 5
}
