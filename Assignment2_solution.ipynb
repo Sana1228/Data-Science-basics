{
 "cells": [
  {
   "cell_type": "markdown",
   "metadata": {},
   "source": [
    "## <span style = 'color:green'>Assignment on python fundamentals</span>\n"
   ]
  },
  {
   "cell_type": "markdown",
   "metadata": {},
   "source": [
    "1. **By using 'print' function print the provided string in specified format**\n",
    "**your executiion should be this**: \n",
    "\n",
    "Hello World           \n",
    "  Welcome to 'Python' Programming"
   ]
  },
  {
   "cell_type": "code",
   "execution_count": 3,
   "metadata": {},
   "outputs": [
    {
     "name": "stdout",
     "output_type": "stream",
     "text": [
      "Hello World \n",
      "Welcome to 'Python' Programming\n"
     ]
    }
   ],
   "source": [
    "#start your code here\n",
    "print(\"Hello World \\nWelcome to 'Python' Programming\")\n"
   ]
  },
  {
   "cell_type": "markdown",
   "metadata": {},
   "source": [
    "2. **Check the python version which you are using**"
   ]
  },
  {
   "cell_type": "code",
   "execution_count": 3,
   "metadata": {},
   "outputs": [
    {
     "data": {
      "text/plain": [
       "'3.9.12'"
      ]
     },
     "execution_count": 3,
     "metadata": {},
     "output_type": "execute_result"
    }
   ],
   "source": [
    "#start your code here\n",
    "from platform import python_version\n",
    "python_version()\n"
   ]
  },
  {
   "cell_type": "markdown",
   "metadata": {},
   "source": [
    "3. **Design a Python program which can calculate the area by taking readius as input by user input method**\n",
    "<table>\n",
    "  <tr>\n",
    "  <td><td>\n",
    "   <br> instead of giving direct values try using \"float(input())\" </td>\n",
    "  </tr>\n",
    "</table>"
   ]
  },
  {
   "cell_type": "code",
   "execution_count": 5,
   "metadata": {},
   "outputs": [
    {
     "name": "stdout",
     "output_type": "stream",
     "text": [
      "Enter the radius:6\n",
      "113.09733552923255\n"
     ]
    }
   ],
   "source": [
    "import math\n",
    "radius=float(input(\"Enter the radius:\"))\n",
    "area=(math.pi)*radius**2\n",
    "print(area)"
   ]
  },
  {
   "cell_type": "code",
   "execution_count": 6,
   "metadata": {},
   "outputs": [
    {
     "name": "stdout",
     "output_type": "stream",
     "text": [
      "Enter your first name:Sana\n",
      "Enter your last name:Simran\n",
      "Hello Sana Simran, hope you are doing good\n"
     ]
    }
   ],
   "source": [
    "#start your code here\n",
    "first_name=input(\"Enter your first name:\")\n",
    "last_name=input(\"Enter your last name:\")\n",
    "print(f\"Hello {first_name} {last_name}, hope you are doing good\")\n"
   ]
  },
  {
   "cell_type": "markdown",
   "metadata": {},
   "source": [
    "4. **Write a python program which can take your first and last name seperately and execute as** \n",
    "<table>\n",
    "  <tr>\n",
    "  <td><td>\n",
    "   <br>**Sample execution** : Hello 'first name' 'last name', hope you are doing good</td>\n",
    "  </tr>\n",
    "</table>\n"
   ]
  },
  {
   "cell_type": "markdown",
   "metadata": {},
   "source": [
    "5. **Write a python program which can convert kilograms to grams**\n"
   ]
  },
  {
   "cell_type": "code",
   "execution_count": 9,
   "metadata": {},
   "outputs": [
    {
     "name": "stdout",
     "output_type": "stream",
     "text": [
      "Enter the value in Kilogram:2.5\n",
      "2.5 is 2500.0 in grams\n"
     ]
    }
   ],
   "source": [
    "#start your code here\n",
    "kg=float(input(\"Enter the value in Kilogram:\"))\n",
    "grams= kg*1000\n",
    "print(f\"{kg} is {grams} in grams\")"
   ]
  },
  {
   "cell_type": "markdown",
   "metadata": {},
   "source": [
    "6. **Create a list and store the given elements in the list**\n",
    "  <table>\n",
    "  <tr>\n",
    "  <td><td>\n",
    "   <br>Elements : 'Bengaluru','New York', 1971, '1682', (1,2,3,4,5,'Is this tuple?'),\"'Hello,welcome to Python Programming'\"</td>\n",
    "  </tr>\n",
    "</table>\n",
    "- Try to extract entire tuple by using positive indexing\n",
    "- Can we add elements into tuple after creating it?\n",
    "- Remove '1682' and 'New York' from the list\n",
    "- Discuss one practical application of tuple and lists\n",
    "- Access 'Bengaluru' by Negitive indexing\n",
    "- add 'Mumbai' into the list\n",
    "- Try to perform one operation on each removal operation on lists \n",
    "1. del\n",
    "2. remove\n",
    "3. pop\n",
    "- Try to perform one operation on each operational\n",
    "1. append\n",
    "2. entend\n",
    "3. insert"
   ]
  },
  {
   "cell_type": "code",
   "execution_count": 19,
   "metadata": {},
   "outputs": [
    {
     "name": "stdout",
     "output_type": "stream",
     "text": [
      "['Bengaluru', 1971, (1, 2, 3, 4, 5, 'Is this tuple?'), \"'Hello,welcome to Python Programming'\"]\n",
      "Bengaluru\n",
      "['Bengaluru', 1971, (1, 2, 3, 4, 5, 'Is this tuple?'), \"'Hello,welcome to Python Programming'\", 'Mumbai']\n",
      "['Bengaluru', (1, 2, 3, 4, 5, 'Is this tuple?'), \"'Hello,welcome to Python Programming'\", 'Mumbai']\n",
      "Mumbai\n",
      "[(1, 2, 3, 4, 5, 'Is this tuple?'), \"'Hello,welcome to Python Programming'\"]\n",
      "[(1, 2, 3, 4, 5, 'Is this tuple?'), \"'Hello,welcome to Python Programming'\", 'Mumbai']\n",
      "[(1, 2, 3, 4, 5, 'Is this tuple?'), \"'Hello,welcome to Python Programming'\", 'Mumbai', 1971, '1682']\n",
      "[(1, 2, 3, 4, 5, 'Is this tuple?'), 'Bye', \"'Hello,welcome to Python Programming'\", 'Mumbai', 1971, '1682']\n"
     ]
    }
   ],
   "source": [
    "#start your code here\n",
    "Elements=['Bengaluru','New York',1971,'1682',(1,2,3,4,5,'Is this tuple?'),\"'Hello,welcome to Python Programming'\"]\n",
    "#Yes we cannot add elements into a tuple after creating it using append function or extends because it is immutable.\n",
    "Elements.remove('1682')\n",
    "Elements.remove('New York')\n",
    "print(Elements)\n",
    "#tuples being immutable can be used for storing confidential data like a users credentials on the other hand \n",
    "#lists can be used to store any piece of data like a sequence of numbers\n",
    "print(Elements[-4])\n",
    "Elements.append('Mumbai')\n",
    "print(Elements)\n",
    "del Elements[1]\n",
    "print(Elements)\n",
    "a=Elements.pop()\n",
    "print(a)\n",
    "Elements.remove('Bengaluru')\n",
    "print(Elements)\n",
    "Elements.append('Mumbai')\n",
    "print(Elements)\n",
    "b=[1971,'1682']\n",
    "Elements.extend(b)\n",
    "print(Elements)\n",
    "Elements.insert(1,\"Bye\")\n",
    "print(Elements)"
   ]
  },
  {
   "cell_type": "markdown",
   "metadata": {},
   "source": [
    "7. **Write a python program which can calculate the electricity bill by considering the no of units consumed and other parameters are mentioned below**\n",
    "- If units consumed is less than 50 then bill amount should be 100INR\n",
    "- If units consumed between 50 - 300 then each unit will be charged at 4.5 INR\n",
    "-  If units consumed more than 300 then that billed individual have to pay base pay as 1000INR and 300 units will be reduced from his total consumed units and for remaining units 7 INR will be charged for each unit.\n",
    "- Execution should be "
   ]
  },
  {
   "cell_type": "code",
   "execution_count": 20,
   "metadata": {},
   "outputs": [
    {
     "name": "stdout",
     "output_type": "stream",
     "text": [
      "Enter the no.of units consumed: 345\n",
      "Your final bill is: 1315.0\n"
     ]
    }
   ],
   "source": [
    "#start your code here\n",
    "units=int(input(\"Enter the no.of units consumed: \"))\n",
    "bill=0\n",
    "if units<50:\n",
    "    bill=100\n",
    "elif units>=50 and units<300:\n",
    "    bill=float(units*4.5)\n",
    "elif units>=300:\n",
    "    bill=float(1000+((units-300)*7))\n",
    "print(f\"Your final bill is: {bill}\")"
   ]
  },
  {
   "cell_type": "markdown",
   "metadata": {},
   "source": [
    "8. **Write a program to calculate the tax of the vehicle based on the price**\n",
    "- below are the parameters to consider\n",
    "\n",
    "\n",
    "    Cost price (in Rs)                                            Tax\n",
    "        > 150000                                                  15 %\n",
    "        > 50000 and <= 100000                                     10%"
   ]
  },
  {
   "cell_type": "code",
   "execution_count": 21,
   "metadata": {},
   "outputs": [
    {
     "name": "stdout",
     "output_type": "stream",
     "text": [
      "Enter your vehicle cost: 160000\n",
      "The tax of the vehicle based on the price is: 24000.0\n"
     ]
    }
   ],
   "source": [
    "#start your code here\n",
    "CP=int(input(\"Enter your vehicle cost: \"))\n",
    "if CP>50000 and CP<=100000:\n",
    "    tax=float(0.1*CP)\n",
    "elif CP>150000:\n",
    "    tax=float(0.15*CP)\n",
    "print(f\"The tax of the vehicle based on the price is: {tax}\")"
   ]
  },
  {
   "cell_type": "markdown",
   "metadata": {},
   "source": [
    "9. **Write a program to check if the input is positive or negitive**\n"
   ]
  },
  {
   "cell_type": "code",
   "execution_count": 22,
   "metadata": {},
   "outputs": [
    {
     "name": "stdout",
     "output_type": "stream",
     "text": [
      "Enter the number: -7\n",
      "-7 is a negative number.\n"
     ]
    }
   ],
   "source": [
    "#start your code here\n",
    "a=int(input(\"Enter the number: \"))\n",
    "if a>=0:\n",
    "    print(f\"{a} is a positive number.\")\n",
    "else:\n",
    "    print(f\"{a} is a negative number.\")"
   ]
  },
  {
   "cell_type": "markdown",
   "metadata": {},
   "source": [
    "10. **Define a function which can multiply the string with n number of times**\n",
    "- string = \"python programming\""
   ]
  },
  {
   "cell_type": "code",
   "execution_count": 11,
   "metadata": {},
   "outputs": [],
   "source": [
    "#start your code here\n",
    "def multi(n):\n",
    "    string=\"python programming\"\n",
    "    print(string*n) \n",
    "multi(10)"
   ]
  },
  {
   "cell_type": "markdown",
   "metadata": {},
   "source": [
    "11. **Define a function whicg can sum up two numbers** \n"
   ]
  },
  {
   "cell_type": "code",
   "execution_count": 24,
   "metadata": {},
   "outputs": [
    {
     "name": "stdout",
     "output_type": "stream",
     "text": [
      "9\n"
     ]
    }
   ],
   "source": [
    "#start your code here\n",
    "def add(a,b):\n",
    "    return a+b\n",
    "print(add(5,4))"
   ]
  },
  {
   "cell_type": "markdown",
   "metadata": {},
   "source": [
    "12. **Define a function which can identify if a user has entered specifit string or not**\n",
    "- specified string = \"India\""
   ]
  },
  {
   "cell_type": "code",
   "execution_count": 27,
   "metadata": {},
   "outputs": [
    {
     "data": {
      "text/plain": [
       "False"
      ]
     },
     "execution_count": 27,
     "metadata": {},
     "output_type": "execute_result"
    }
   ],
   "source": [
    "#start your code here\n",
    "def check(string):\n",
    "    specified_string=\"India\"\n",
    "    if specified_string == string:\n",
    "        return True\n",
    "    else:\n",
    "        return False\n",
    "check(\"France\")"
   ]
  },
  {
   "cell_type": "markdown",
   "metadata": {},
   "source": [
    "13. **define a function which will greet by taking user name as input**\n",
    "- input = name\n",
    "- hello 'name', hope you are doing good"
   ]
  },
  {
   "cell_type": "code",
   "execution_count": 28,
   "metadata": {},
   "outputs": [
    {
     "name": "stdout",
     "output_type": "stream",
     "text": [
      "Enter you name: Sana\n",
      "hello 'Sana', hope you are doing good\n"
     ]
    }
   ],
   "source": [
    "#start your code here\n",
    "name=input(\"Enter you name: \")\n",
    "print(f\"hello '{name}', hope you are doing good\")"
   ]
  },
  {
   "cell_type": "markdown",
   "metadata": {},
   "source": [
    "14. **Define a function which can give us the entire prime numbers till the input**\n"
   ]
  },
  {
   "cell_type": "code",
   "execution_count": 58,
   "metadata": {},
   "outputs": [
    {
     "name": "stdout",
     "output_type": "stream",
     "text": [
      "[1, 2, 3, 5, 7, 11, 13, 17, 19, 23, 29, 31, 37, 41, 43, 47, 53, 59, 61, 67, 71, 73, 79, 83]\n"
     ]
    }
   ],
   "source": [
    "#start your code here\n",
    "def prime_number(number):\n",
    "    c=0\n",
    "    for i in range(2,number):\n",
    "        if ((number%i)==0):\n",
    "            c+=1\n",
    "    if c==0:\n",
    "        return True\n",
    "    else:\n",
    "        return False\n",
    "       \n",
    "    \n",
    "\n",
    "# prime_number(27)\n",
    "def prime_list(n):\n",
    "    c=[]\n",
    "    if n==1:\n",
    "        c=[1]\n",
    "    elif n==2:\n",
    "        c=[1,2]\n",
    "    if n>2:\n",
    "        c=[i for i in range(3,n) if prime_number(i)==True]\n",
    "        c.insert(0,1)\n",
    "        c.insert(1,2)\n",
    "        \n",
    "#         for i in range(3,n):\n",
    "#             if prime_number(i)==True:\n",
    "#                 c.append(i)\n",
    "    print(c)\n",
    "prime_list(87)\n",
    "        \n",
    "        "
   ]
  },
  {
   "cell_type": "markdown",
   "metadata": {},
   "source": [
    "15. **Q.1 Check if a given string is palindrome.**\n",
    "    <br> A string is palindrome if the reverse of the string is same as itself.\n",
    "    <br> For eg. madam\n",
    "    <br> Print \"`<string>` is palindrome\" if it is palindrome \n",
    "    <br> else \"`<string>` is not a palindrome\" if it is not a palindrome.\n",
    "    <br> Hint : Use slicing to get reverse of the string."
   ]
  },
  {
   "cell_type": "code",
   "execution_count": 64,
   "metadata": {},
   "outputs": [
    {
     "name": "stdout",
     "output_type": "stream",
     "text": [
      "Enter your string to check it's palindrome nature: wow\n",
      "It is a palindrome string\n"
     ]
    }
   ],
   "source": [
    "#start your code here\n",
    "str = input(\"Enter your string to check it's palindrome nature: \").lower()\n",
    "str1=str[::-1]\n",
    "if str==str1:\n",
    "    print(\"It is a palindrome string\")\n",
    "else:\n",
    "    print(\"It is not a palindrome string\")"
   ]
  },
  {
   "cell_type": "markdown",
   "metadata": {},
   "source": [
    "16. **Write a python program to find n is a leap year** \n",
    "<br> Print \"n is a leap year\" if the given year is leap year.\n",
    "<br> Print \"n is not a leap year\" if the given year is not leap year.\n",
    "<br> Replace n with given year.\n",
    "<br> Hint : Use nested if-else "
   ]
  },
  {
   "cell_type": "code",
   "execution_count": 68,
   "metadata": {},
   "outputs": [
    {
     "name": "stdout",
     "output_type": "stream",
     "text": [
      "Enter the year to check if it is a leap year: 1998\n",
      "1998 is not a leap year\n"
     ]
    }
   ],
   "source": [
    "#start your codes here\n",
    "\n",
    "def leapyear(n):\n",
    "    if(n%4==0):\n",
    "        if(n%100==0):\n",
    "            if(n%400==0):\n",
    "                print(f\"{n} is a leap year\")\n",
    "            else:\n",
    "                print(f\"{n} is not a leap year\")\n",
    "        else:\n",
    "            print(f\"{n} is a leap year\")\n",
    "    else:\n",
    "        print(f\"{n} is not a leap year\")\n",
    "        \n",
    "year=int(input(\"Enter the year to check if it is a leap year: \"))\n",
    "leapyear(year)\n",
    "        \n",
    "        "
   ]
  },
  {
   "cell_type": "markdown",
   "metadata": {},
   "source": [
    "17. **Write a python program to check if n is leap year**"
   ]
  },
  {
   "cell_type": "code",
   "execution_count": 18,
   "metadata": {},
   "outputs": [],
   "source": [
    "#start your codes here\n",
    "\n",
    "def leapyear(n):\n",
    "    if(n%4==0):\n",
    "        if(n%100==0):\n",
    "            if(n%400==0):\n",
    "                print(f\"{n} is a leap year\")\n",
    "            else:\n",
    "                print(f\"{n} is not a leap year\")\n",
    "        else:\n",
    "            print(f\"{n} is a leap year\")\n",
    "    else:\n",
    "        print(f\"{n} is not a leap year\")\n",
    "        \n",
    "year=int(input(\"Enter the year to check if it is a leap year: \"))\n",
    "leapyear(year)\n",
    "\n"
   ]
  },
  {
   "cell_type": "markdown",
   "metadata": {},
   "source": [
    "18.  **Find the largest among three numbers**\n",
    "\n",
    "eg. Consider a,b,c as the three numbers, find which is the  largest number among them"
   ]
  },
  {
   "cell_type": "code",
   "execution_count": 75,
   "metadata": {},
   "outputs": [
    {
     "name": "stdout",
     "output_type": "stream",
     "text": [
      "Enter three numbers to find out the largest among them:  23 34 45\n",
      "The largest among the three is 45\n"
     ]
    }
   ],
   "source": [
    "#start your code here\n",
    "a=input(\"Enter three numbers to find out the largest among them:  \")\n",
    "a_list=a.split(\" \")\n",
    "print(f\"The largest among the three is {max(a_list)}\")"
   ]
  },
  {
   "cell_type": "markdown",
   "metadata": {},
   "source": [
    "19. **write a python program to print even numbers from 1 to 15 by using range function**\n"
   ]
  },
  {
   "cell_type": "code",
   "execution_count": 77,
   "metadata": {},
   "outputs": [
    {
     "name": "stdout",
     "output_type": "stream",
     "text": [
      "[2, 4, 6, 8, 10, 12, 14]\n"
     ]
    }
   ],
   "source": [
    "#start your code here\n",
    "print([i for i in range(1,15) if i%2==0])"
   ]
  },
  {
   "cell_type": "markdown",
   "metadata": {},
   "source": [
    "20. **Write a program to guess the integer which is selected by computerby using  randint**\n",
    "- use random and radint \n",
    "- range should be 1 to 10\n",
    "- if user's number is greater than 10 then program should say your guess is too high\n",
    "- if user input is matches with the computer choice then your program should say \"yey! correct guess\"\n",
    "- otherwise your program should say too low"
   ]
  },
  {
   "cell_type": "code",
   "execution_count": 81,
   "metadata": {},
   "outputs": [
    {
     "name": "stdout",
     "output_type": "stream",
     "text": [
      "Enter the number you guessed: 2\n",
      "too low\n"
     ]
    }
   ],
   "source": [
    "#start your code here\n",
    "import random\n",
    "a=random.randint(1,10)\n",
    "num=int(input(\"Enter the number you guessed: \"))\n",
    "if a==num:\n",
    "    print(\"yey! correct guess\")\n",
    "elif num>10:\n",
    "    print(\"your guess is too high\")\n",
    "else:\n",
    "    print(\"too low\")"
   ]
  },
  {
   "cell_type": "code",
   "execution_count": null,
   "metadata": {},
   "outputs": [],
   "source": []
  }
 ],
 "metadata": {
  "kernelspec": {
   "display_name": "Python 3 (ipykernel)",
   "language": "python",
   "name": "python3"
  },
  "language_info": {
   "codemirror_mode": {
    "name": "ipython",
    "version": 3
   },
   "file_extension": ".py",
   "mimetype": "text/x-python",
   "name": "python",
   "nbconvert_exporter": "python",
   "pygments_lexer": "ipython3",
   "version": "3.9.12"
  }
 },
 "nbformat": 4,
 "nbformat_minor": 4
}
