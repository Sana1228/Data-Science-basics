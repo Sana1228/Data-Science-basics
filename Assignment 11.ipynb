{
 "cells": [
  {
   "cell_type": "markdown",
   "id": "22e70f06",
   "metadata": {},
   "source": [
    "# Assignment 11"
   ]
  },
  {
   "cell_type": "markdown",
   "id": "1e0e90ab",
   "metadata": {},
   "source": [
    "## date :- 12/02/2024"
   ]
  },
  {
   "cell_type": "markdown",
   "id": "c390b1bf",
   "metadata": {},
   "source": [
    "#### Q1. What is an Exception in python? Write the difference between Exceptions and Syntax errors."
   ]
  },
  {
   "cell_type": "markdown",
   "id": "f7daab60",
   "metadata": {},
   "source": [
    "#### Answer:\n",
    "In Python, an Exception is an event that occurs during the execution of a program that disrupts the normal flow of the program's instructions. When an Exception occurs, Python stops executing the program and raises an error message that describes the problem.\n",
    "\n",
    "Exceptions can occur for various reasons, such as when trying to perform an operation that is not possible, accessing an object that does not exist, or when there is an issue with input/output operations, to name a few.\n",
    "\n",
    "In contrast, a Syntax Error occurs when the Python interpreter is unable to understand and execute the code because the code does not follow the syntax rules of the Python language. Syntax errors occur during the parsing of the code, which means that they occur before the program is executed. These errors are typically due to issues such as missing or extra brackets, incorrect indentation, or misspelled keywords.\n",
    "\n",
    "The main difference between Exceptions and Syntax Errors is that Exceptions occur during the execution of the program, whereas Syntax Errors occur during the parsing of the code. Syntax errors can be identified and fixed before the program is executed, while Exceptions can occur at runtime and must be handled in order to prevent the program from crashing.\n",
    "\n",
    "Another difference is that Syntax Errors are typically caused by mistakes made by the programmer, while Exceptions can be caused by a variety of factors, such as incorrect user input or unexpected behavior of external libraries."
   ]
  },
  {
   "cell_type": "markdown",
   "id": "28ff50a0",
   "metadata": {},
   "source": [
    "#### Q2. What happens when an exception is not handled?Explain with an example.\n"
   ]
  },
  {
   "cell_type": "markdown",
   "id": "2acb200f",
   "metadata": {},
   "source": [
    "#### Answer:\n",
    "When an exception is not handled in Python, it will propagate up the call stack until it reaches the top level of the program. If it reaches the top level and still has not been handled, the program will terminate with an error message. \n",
    "\n",
    "Example:-"
   ]
  },
  {
   "cell_type": "code",
   "execution_count": 2,
   "id": "a95b47e8",
   "metadata": {},
   "outputs": [
    {
     "ename": "ZeroDivisionError",
     "evalue": "division by zero",
     "output_type": "error",
     "traceback": [
      "\u001b[1;31m---------------------------------------------------------------------------\u001b[0m",
      "\u001b[1;31mZeroDivisionError\u001b[0m                         Traceback (most recent call last)",
      "Input \u001b[1;32mIn [2]\u001b[0m, in \u001b[0;36m<cell line: 10>\u001b[1;34m()\u001b[0m\n\u001b[0;32m      8\u001b[0m     \u001b[38;5;28mprint\u001b[39m(result)\n\u001b[0;32m     10\u001b[0m \u001b[38;5;28;01mif\u001b[39;00m \u001b[38;5;18m__name__\u001b[39m \u001b[38;5;241m==\u001b[39m \u001b[38;5;124m'\u001b[39m\u001b[38;5;124m__main__\u001b[39m\u001b[38;5;124m'\u001b[39m:\n\u001b[1;32m---> 11\u001b[0m     \u001b[43mmain\u001b[49m\u001b[43m(\u001b[49m\u001b[43m)\u001b[49m\n",
      "Input \u001b[1;32mIn [2]\u001b[0m, in \u001b[0;36mmain\u001b[1;34m()\u001b[0m\n\u001b[0;32m      5\u001b[0m x \u001b[38;5;241m=\u001b[39m \u001b[38;5;241m5\u001b[39m\n\u001b[0;32m      6\u001b[0m y \u001b[38;5;241m=\u001b[39m \u001b[38;5;241m0\u001b[39m\n\u001b[1;32m----> 7\u001b[0m result \u001b[38;5;241m=\u001b[39m \u001b[43mdivide\u001b[49m\u001b[43m(\u001b[49m\u001b[43mx\u001b[49m\u001b[43m,\u001b[49m\u001b[43m \u001b[49m\u001b[43my\u001b[49m\u001b[43m)\u001b[49m\n\u001b[0;32m      8\u001b[0m \u001b[38;5;28mprint\u001b[39m(result)\n",
      "Input \u001b[1;32mIn [2]\u001b[0m, in \u001b[0;36mdivide\u001b[1;34m(a, b)\u001b[0m\n\u001b[0;32m      1\u001b[0m \u001b[38;5;28;01mdef\u001b[39;00m \u001b[38;5;21mdivide\u001b[39m(a, b):\n\u001b[1;32m----> 2\u001b[0m     \u001b[38;5;28;01mreturn\u001b[39;00m \u001b[43ma\u001b[49m\u001b[43m \u001b[49m\u001b[38;5;241;43m/\u001b[39;49m\u001b[43m \u001b[49m\u001b[43mb\u001b[49m\n",
      "\u001b[1;31mZeroDivisionError\u001b[0m: division by zero"
     ]
    }
   ],
   "source": [
    "def divide(a, b):\n",
    "    return a / b\n",
    "\n",
    "def main():\n",
    "    x = 5\n",
    "    y = 0\n",
    "    result = divide(x, y)\n",
    "    print(result)\n",
    "\n",
    "if __name__ == '__main__':\n",
    "    main()"
   ]
  },
  {
   "cell_type": "markdown",
   "id": "8c2c9177",
   "metadata": {},
   "source": [
    "This error message tells us that the ZeroDivisionError occurred in the divide() function on line 2, but it was not handled. The error message also includes a traceback, which shows the call stack and the line numbers where each function was called.\n",
    "\n",
    "In general, it's important to handle exceptions in Python to prevent unexpected program termination and to provide useful error messages for users."
   ]
  },
  {
   "cell_type": "markdown",
   "id": "c350c974",
   "metadata": {},
   "source": [
    "#### Q4. Which python statements are used to catch and handle exceptions?Explain with an exapmle."
   ]
  },
  {
   "cell_type": "markdown",
   "id": "68c4aa3e",
   "metadata": {},
   "source": [
    "#### Answer\n",
    "When an exception is not handled in Python, it will propagate up the call stack until it reaches the top level of the program. If it reaches the top level and still has not been handled, the program will terminate with an error message.\n",
    "\n",
    "Here's an example:"
   ]
  },
  {
   "cell_type": "code",
   "execution_count": 4,
   "id": "c734f0a8",
   "metadata": {},
   "outputs": [
    {
     "name": "stdout",
     "output_type": "stream",
     "text": [
      "Error: division by zero\n"
     ]
    }
   ],
   "source": [
    "def divide(a, b):\n",
    "    try:\n",
    "        return a / b\n",
    "    except ZeroDivisionError:\n",
    "        print(\"Error: division by zero\")\n",
    "        return None\n",
    "\n",
    "def main():\n",
    "    x = 5\n",
    "    y = 0\n",
    "    result = divide(x, y)\n",
    "    if result is not None:\n",
    "        print(result)\n",
    "\n",
    "if __name__ == '__main__':\n",
    "    main()"
   ]
  },
  {
   "cell_type": "markdown",
   "id": "379570a0",
   "metadata": {},
   "source": [
    "In this example, we've modified the divide() function to include a try-except block. The try block contains the division operation, which may raise a ZeroDivisionError. If this exception occurs, the except block will catch it and print an error message instead of letting the exception propagate up the call stack.\n",
    "\n",
    "In the main() function, we call divide() with x = 5 and y = 0, which would normally raise a ZeroDivisionError. However, since we've added the try-except block, the exception is caught and the error message is printed instead of terminating the program. The divide() function returns None to indicate that an error occurred, and we check for this in the main() function before printing the result."
   ]
  },
  {
   "cell_type": "markdown",
   "id": "c156dc89",
   "metadata": {},
   "source": [
    "#### Q4. Explain with an example:\n",
    "\n",
    "a. try and else\n",
    "\n",
    "b. finally\n",
    "\n",
    "c. raise"
   ]
  },
  {
   "cell_type": "markdown",
   "id": "78d26aa7",
   "metadata": {},
   "source": [
    "#### Answer\n",
    "a. try and else:\n",
    "In Python, we can use the try and else blocks together to execute some code if no exception occurs in the try block. Here's an example:"
   ]
  },
  {
   "cell_type": "code",
   "execution_count": 6,
   "id": "b7b1ab21",
   "metadata": {},
   "outputs": [
    {
     "name": "stdout",
     "output_type": "stream",
     "text": [
      "Enter a number: s\n",
      "Invalid input\n"
     ]
    }
   ],
   "source": [
    "try:\n",
    "    num = int(input(\"Enter a number: \"))\n",
    "except ValueError:\n",
    "    print(\"Invalid input\")\n",
    "else:\n",
    "    print(\"The square of\", num, \"is\", num*num)"
   ]
  },
  {
   "cell_type": "markdown",
   "id": "6157b5e3",
   "metadata": {},
   "source": [
    "In this example, we're trying to convert user input to an integer using the int() function. If the user enters a non-numeric input, a ValueError exception will occur and the program will print \"Invalid input\". If the conversion is successful, the program will print \"The square of <number> is <result>\". The else block is executed only if no exception occurs in the try block."
   ]
  },
  {
   "cell_type": "markdown",
   "id": "215f19a9",
   "metadata": {},
   "source": [
    "b. finally:\n",
    "In Python, we can use the finally block to execute some code regardless of whether an exception occurs or not. Here's an example:"
   ]
  },
  {
   "cell_type": "code",
   "execution_count": 14,
   "id": "8bb92d09",
   "metadata": {},
   "outputs": [
    {
     "name": "stdout",
     "output_type": "stream",
     "text": [
      "Error: Division by zero\n",
      "This will always execute, regardless of whether an exception occurred or not.\n"
     ]
    }
   ],
   "source": [
    "try:\n",
    "    x = 5 / 0\n",
    "except ZeroDivisionError:\n",
    "    print(\"Error: Division by zero\")\n",
    "finally:\n",
    "    print(\"This will always execute, regardless of whether an exception occurred or not.\")"
   ]
  },
  {
   "cell_type": "markdown",
   "id": "b32e09b0",
   "metadata": {},
   "source": [
    "In this example, we're attempting to divide 5 by 0, which will raise a ZeroDivisionError. The except block catches this exception and prints an error message. Regardless of whether an exception occurs or not, the finally block will be executed.The finally block is then executed, which in this case simply prints a message indicating that it always executes, regardless of whether an exception occurred or not.Finally, the program terminates. \n",
    "\n",
    "c. raise:\n",
    "In Python, we can use the raise keyword to raise an exception manually. Here's an example:"
   ]
  },
  {
   "cell_type": "code",
   "execution_count": 13,
   "id": "6dd99072",
   "metadata": {},
   "outputs": [
    {
     "name": "stdout",
     "output_type": "stream",
     "text": [
      "Division by zero\n"
     ]
    }
   ],
   "source": [
    "def divide(a, b):\n",
    "    if b == 0:\n",
    "        raise ZeroDivisionError(\"Division by zero\")\n",
    "    return a / b\n",
    "\n",
    "try:\n",
    "    result = divide(5, 0)\n",
    "    print(result)\n",
    "except ZeroDivisionError as e:\n",
    "    print(e)"
   ]
  },
  {
   "cell_type": "markdown",
   "id": "59073a0b",
   "metadata": {},
   "source": [
    "n this example, we're defining a divide() function that raises a ZeroDivisionError if the second argument is zero. We're calling this function with 5 and 0, which will raise the exception. The except block catches the exception and prints the error message. The raise keyword allows us to manually raise an exception with a custom error message."
   ]
  },
  {
   "cell_type": "markdown",
   "id": "9bfe616e",
   "metadata": {},
   "source": [
    "#### Q5. What are Custom Exceptions in python?Why do we need Custom Exception?Explain with an example."
   ]
  },
  {
   "cell_type": "markdown",
   "id": "68970ea2",
   "metadata": {},
   "source": [
    "#### Answer:\n",
    "Custom exceptions in Python are user-defined exceptions that allow us to define our own types of exceptions. Custom exceptions can be useful when we want to create an exception specific to our application or domain.\n",
    "\n",
    "We need custom exceptions because Python provides a set of built-in exceptions that cover common error scenarios, but they may not always be sufficient to handle all the exceptional cases in a particular application. Custom exceptions help us to create more meaningful and specific error messages that are easier to understand and troubleshoot.\n",
    "\n",
    "Here's an example of how to define and use a custom exception in Python:"
   ]
  },
  {
   "cell_type": "code",
   "execution_count": 16,
   "id": "0754f629",
   "metadata": {},
   "outputs": [
    {
     "name": "stdout",
     "output_type": "stream",
     "text": [
      "Enter a number between 1 and 10: 11\n",
      "Error: Number out of range\n"
     ]
    }
   ],
   "source": [
    "class MyCustomException(Exception):\n",
    "    def __init__(self, message):\n",
    "        self.message = message\n",
    "\n",
    "try:\n",
    "    num = int(input(\"Enter a number between 1 and 10: \"))\n",
    "    if num < 1 or num > 10:\n",
    "        raise MyCustomException(\"Number out of range\")\n",
    "except MyCustomException as e:\n",
    "    print(\"Error:\", e.message)\n"
   ]
  },
  {
   "cell_type": "markdown",
   "id": "0f74a173",
   "metadata": {},
   "source": [
    "In this example, we're defining a custom exception called MyCustomException. This exception inherits from the base Exception class and overrides its constructor to take a custom message as an argument.\n",
    "\n",
    "We're then using this custom exception in a try-except block to check whether the user input is between 1 and 10. If the input is outside this range, we're raising our custom exception with an appropriate error message.\n",
    "\n",
    "If our custom exception is raised, the except block catches it and prints the error message. If the input is valid, the program continues without raising an exception.\n",
    "\n",
    "Using custom exceptions like this allows us to define and handle application-specific errors in a more meaningful way."
   ]
  },
  {
   "cell_type": "markdown",
   "id": "971c6363",
   "metadata": {},
   "source": [
    "#### Q6. Create a Custom Exception class.Use this class to handle an exception."
   ]
  },
  {
   "cell_type": "markdown",
   "id": "ff660d09",
   "metadata": {},
   "source": [
    "#### Answer:\n"
   ]
  },
  {
   "cell_type": "code",
   "execution_count": 17,
   "id": "0346879c",
   "metadata": {},
   "outputs": [
    {
     "name": "stdout",
     "output_type": "stream",
     "text": [
      "Enter a positive number: -2\n",
      "Error: Entered number is negative\n"
     ]
    }
   ],
   "source": [
    "class NegativeNumberException(Exception):\n",
    "    def __init__(self, message):\n",
    "        super().__init__(message)\n",
    "\n",
    "try:\n",
    "    num = int(input(\"Enter a positive number: \"))\n",
    "    if num < 0:\n",
    "        raise NegativeNumberException(\"Error: Entered number is negative\")\n",
    "    else:\n",
    "        print(\"Entered number is:\", num)\n",
    "except NegativeNumberException as e:\n",
    "    print(e)\n"
   ]
  },
  {
   "cell_type": "code",
   "execution_count": null,
   "id": "7f7bea6d",
   "metadata": {},
   "outputs": [],
   "source": []
  }
 ],
 "metadata": {
  "kernelspec": {
   "display_name": "Python 3 (ipykernel)",
   "language": "python",
   "name": "python3"
  },
  "language_info": {
   "codemirror_mode": {
    "name": "ipython",
    "version": 3
   },
   "file_extension": ".py",
   "mimetype": "text/x-python",
   "name": "python",
   "nbconvert_exporter": "python",
   "pygments_lexer": "ipython3",
   "version": "3.9.12"
  }
 },
 "nbformat": 4,
 "nbformat_minor": 5
}
