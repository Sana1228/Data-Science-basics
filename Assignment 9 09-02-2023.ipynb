{
 "cells": [
  {
   "cell_type": "markdown",
   "id": "8b3871c4",
   "metadata": {},
   "source": [
    "# Assignment 9"
   ]
  },
  {
   "cell_type": "markdown",
   "id": "f3d1c5ce",
   "metadata": {},
   "source": [
    "## date :- 09/02/2023"
   ]
  },
  {
   "cell_type": "markdown",
   "id": "bcd1f56a",
   "metadata": {},
   "source": [
    "#### Q1, Create a vehicle class with an init method having instance variables as name_of_vehicle, max_speed and average_of_vehicle."
   ]
  },
  {
   "cell_type": "code",
   "execution_count": 32,
   "id": "e1baa789",
   "metadata": {},
   "outputs": [],
   "source": [
    "#Answer:-\n",
    "class vehicle:\n",
    "    def __init__(self ,name_of_vehicle, max_speed,average_of_vehicle ):\n",
    "        self.name_of_vehicle = name_of_vehicle\n",
    "        self.max_speed = max_speed\n",
    "        self.average_of_vehicle = average_of_vehicle"
   ]
  },
  {
   "cell_type": "markdown",
   "id": "5856768a",
   "metadata": {},
   "source": [
    "#### Q2. Create a child class car from the vehicle class created in Que 1, which will inherit the vehicle class. Create a method named seating_capacity which takes capacity as an argument and returns the name of the vehicle and its seating capacity."
   ]
  },
  {
   "cell_type": "code",
   "execution_count": 33,
   "id": "1fb9927a",
   "metadata": {},
   "outputs": [],
   "source": [
    "class Car(vehicle):\n",
    "   # def __init__(self , capacity ):\n",
    "        #self.__seating_capacity=seating_capacity\n",
    "    \n",
    "    def seating_capacity(self, capacity):\n",
    "        #self.__seating_capacity=seating_capacity\n",
    "        #return self.__name_of_vehicle, self.__seating_capacity\n",
    "        return f\"{self.name_of_vehicle} has a seating capacity of {capacity}.\"\n",
    "        "
   ]
  },
  {
   "cell_type": "code",
   "execution_count": 34,
   "id": "8ac9bbf5",
   "metadata": {},
   "outputs": [
    {
     "name": "stdout",
     "output_type": "stream",
     "text": [
      "Toyota Camry has a seating capacity of 5.\n"
     ]
    }
   ],
   "source": [
    "#obj = vehicle('toyota',250,200)\n",
    "my_car = Car(\"Toyota Camry\", 120, 30)\n",
    "print(my_car.seating_capacity(5))  # prints \"Toyota Camry has a seating capacity of 5.\""
   ]
  },
  {
   "cell_type": "markdown",
   "id": "9621a126",
   "metadata": {},
   "source": [
    "#### Q3. What is multiple inheritance? Write a python code to demonstrate multiple inheritance."
   ]
  },
  {
   "cell_type": "markdown",
   "id": "53886bb5",
   "metadata": {},
   "source": [
    "Answer:-\n",
    "\n",
    "Multiple inheritance is a feature of object-oriented programming where a class can inherit properties and methods from multiple parent classes. This allows for greater flexibility and reusability in code design.\n",
    "\n",
    "Here's an example of how to implement multiple inheritance in Python:"
   ]
  },
  {
   "cell_type": "code",
   "execution_count": 35,
   "id": "dcbfbe4d",
   "metadata": {},
   "outputs": [
    {
     "name": "stdout",
     "output_type": "stream",
     "text": [
      "Sparrow is eating.\n",
      "I'm flying.\n"
     ]
    }
   ],
   "source": [
    "class Animal:\n",
    "    def __init__(self, name):\n",
    "        self.name = name\n",
    "\n",
    "    def eat(self):\n",
    "        print(f\"{self.name} is eating.\")\n",
    "\n",
    "class Flyable:\n",
    "    def fly(self):\n",
    "        print(\"I'm flying.\")\n",
    "\n",
    "class Bird(Animal, Flyable):\n",
    "    def __init__(self, name):\n",
    "        super().__init__(name)\n",
    "\n",
    "bird = Bird(\"Sparrow\")\n",
    "bird.eat()\n",
    "bird.fly()"
   ]
  },
  {
   "cell_type": "markdown",
   "id": "8ae04f65",
   "metadata": {},
   "source": [
    "#### Q4. What are getter and setter in python? Create a class and create a getter and a setter method in this class."
   ]
  },
  {
   "cell_type": "markdown",
   "id": "4ab44fb9",
   "metadata": {},
   "source": [
    "Answer: -\n",
    "\n",
    "In Python, getter and setter methods are used to encapsulate the attributes of a class. They provide a way to access and modify class attributes while controlling how the attributes are accessed and modified from outside the class.\n",
    "\n",
    "A getter method, also called an accessor method, is used to get the value of a private attribute of a class. A setter method, also called a mutator method, is used to set the value of a private attribute of a class. The private attributes of a class are generally defined with a leading underscore.\n",
    "\n",
    "Here's an example class that demonstrates the use of getter and setter methods in Python:"
   ]
  },
  {
   "cell_type": "code",
   "execution_count": 36,
   "id": "2afc2bce",
   "metadata": {},
   "outputs": [],
   "source": [
    "class Person:\n",
    "    def __init__(self, name, age):\n",
    "        self._name = name\n",
    "        self._age = age\n",
    "    \n",
    "    def get_name(self):\n",
    "        return self._name\n",
    "    \n",
    "    def set_name(self, name):\n",
    "        self._name = name\n",
    "    \n",
    "    def get_age(self):\n",
    "        return self._age\n",
    "    \n",
    "    def set_age(self, age):\n",
    "        if age < 0:\n",
    "            raise ValueError(\"Age can't be negative\")\n",
    "        self._age = age\n"
   ]
  },
  {
   "cell_type": "code",
   "execution_count": 37,
   "id": "889cc2cd",
   "metadata": {},
   "outputs": [
    {
     "name": "stdout",
     "output_type": "stream",
     "text": [
      "John\n",
      "Jane\n",
      "30\n",
      "40\n"
     ]
    }
   ],
   "source": [
    "person = Person(\"John\", 30)\n",
    "print(person.get_name())  # Output: John\n",
    "person.set_name(\"Jane\")\n",
    "print(person.get_name())  # Output: Jane\n",
    "print(person.get_age())  # Output: 30\n",
    "person.set_age(40)\n",
    "print(person.get_age())  # Output: 40"
   ]
  },
  {
   "cell_type": "markdown",
   "id": "78850641",
   "metadata": {},
   "source": [
    "#### Q5.What is method overriding in python? Write a python code to demonstrate method overriding."
   ]
  },
  {
   "cell_type": "markdown",
   "id": "55cd99bc",
   "metadata": {},
   "source": [
    "Answer:-\n",
    "Method overriding is a feature in object-oriented programming that allows a subclass to provide a different implementation of a method that is already defined in its parent class. This is useful when you want to change the behavior of a method in the subclass without changing its name or signature.\n",
    "\n",
    "In Python, method overriding can be done by defining a method with the same name in the subclass as in the parent class. When an object of the subclass calls the overridden method, the subclass's implementation will be used instead of the parent class's implementation.\n",
    "\n",
    "Here's an example code that demonstrates method overriding in Python:"
   ]
  },
  {
   "cell_type": "code",
   "execution_count": 38,
   "id": "0f2ef46e",
   "metadata": {},
   "outputs": [
    {
     "name": "stdout",
     "output_type": "stream",
     "text": [
      "The animal speaks.\n",
      "The dog barks.\n",
      "The cat meows.\n"
     ]
    }
   ],
   "source": [
    "class Animal:\n",
    "    def speak(self):\n",
    "        print(\"The animal speaks.\")\n",
    "\n",
    "class Dog(Animal):\n",
    "    def speak(self):\n",
    "        print(\"The dog barks.\")\n",
    "\n",
    "class Cat(Animal):\n",
    "    def speak(self):\n",
    "        print(\"The cat meows.\")\n",
    "\n",
    "animal = Animal()\n",
    "animal.speak()  # Output: The animal speaks.\n",
    "\n",
    "dog = Dog()\n",
    "dog.speak()  # Output: The dog barks.\n",
    "\n",
    "cat = Cat()\n",
    "cat.speak()  # Output: The cat meows.\n"
   ]
  },
  {
   "cell_type": "code",
   "execution_count": null,
   "id": "2003e258",
   "metadata": {},
   "outputs": [],
   "source": []
  }
 ],
 "metadata": {
  "kernelspec": {
   "display_name": "Python 3 (ipykernel)",
   "language": "python",
   "name": "python3"
  },
  "language_info": {
   "codemirror_mode": {
    "name": "ipython",
    "version": 3
   },
   "file_extension": ".py",
   "mimetype": "text/x-python",
   "name": "python",
   "nbconvert_exporter": "python",
   "pygments_lexer": "ipython3",
   "version": "3.9.12"
  }
 },
 "nbformat": 4,
 "nbformat_minor": 5
}
