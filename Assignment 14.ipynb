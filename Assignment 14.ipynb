{
 "cells": [
  {
   "cell_type": "markdown",
   "id": "ccb41bec",
   "metadata": {},
   "source": [
    "# Assignment 14"
   ]
  },
  {
   "cell_type": "markdown",
   "id": "ed69163e",
   "metadata": {},
   "source": [
    "## Date :- 15/02/2023"
   ]
  },
  {
   "cell_type": "markdown",
   "id": "f9109b98",
   "metadata": {},
   "source": [
    "#### Q1. What is multiprocessing in python? Why is it useful?"
   ]
  },
  {
   "cell_type": "markdown",
   "id": "da069922",
   "metadata": {},
   "source": [
    "#### Answer:\n",
    "Multiprocessing is a technique in Python for running multiple processes concurrently on a multi-core CPU or on multiple CPUs, enabling parallel processing. Unlike multithreading, multiprocessing enables separate processes to run in parallel, each with its own memory space and Python interpreter. The multiprocessing module in Python provides a simple and efficient way to spawn multiple processes and communicate between them.\n",
    "\n",
    "Multiprocessing is useful for tasks that can be split into smaller chunks that can be executed in parallel, such as scientific computing, data analysis, and machine learning. By using multiple processes, multiprocessing can speed up the execution time of CPU-bound tasks by taking advantage of multiple cores and CPUs.\n",
    "\n",
    "Here are some of the advantages of using multiprocessing in Python:\n",
    "\n",
    "1. Improved performance: By executing multiple processes in parallel, multiprocessing can significantly improve the performance of CPU-bound tasks and reduce the overall execution time.\n",
    "\n",
    "2. Better resource utilization: Multiprocessing enables better utilization of system resources, including multiple cores and CPUs, and can help to distribute the workload more evenly.\n",
    "\n",
    "3. Increased stability: By running each process in a separate memory space, multiprocessing can increase the stability of the program, as errors in one process are less likely to affect other processes.\n",
    "\n",
    "4. Easy to use: The multiprocessing module in Python provides a simple and easy-to-use API for spawning and managing multiple processes."
   ]
  },
  {
   "cell_type": "markdown",
   "id": "ab22b815",
   "metadata": {},
   "source": [
    "#### Q2. What are the differences between multiprocessing and multithreading?"
   ]
  },
  {
   "cell_type": "markdown",
   "id": "773fd9bc",
   "metadata": {},
   "source": [
    "#### Answer:\n",
    "The main difference between multiprocessing and multithreading in Python is that multiprocessing uses multiple processes, while multithreading uses multiple threads within a single process. Here are some of the key differences between these two approaches:\n",
    "\n",
    "1. Memory and resource usage: Each process in multiprocessing has its own memory space, whereas threads in multithreading share the same memory space within a single process. This means that multiprocessing can use more memory and system resources than multithreading, but it also makes multiprocessing more stable and less prone to errors.\n",
    "\n",
    "2. CPU utilization: Multiprocessing is better suited for CPU-bound tasks, as it can take advantage of multiple CPUs and cores to run processes in parallel. Multithreading is better suited for I/O-bound tasks, such as reading from or writing to files or network sockets, as it can switch between threads when one is blocked on I/O.\n",
    "\n",
    "3. Communication between threads/processes: In multiprocessing, communication between processes is done through inter-process communication (IPC), such as pipes, queues, or shared memory. In multithreading, communication between threads is done through shared memory or synchronization primitives, such as locks, semaphores, or events.\n",
    "\n",
    "4. Code complexity: Multithreading is generally easier to implement and has less overhead than multiprocessing, as it does not require creating and managing separate processes. However, multithreading can be more complex to implement correctly, as it requires careful synchronization and error handling to avoid race conditions and deadlocks."
   ]
  },
  {
   "cell_type": "markdown",
   "id": "8b93023a",
   "metadata": {},
   "source": [
    "#### Q3. Write a python code to create a process using the multiprocessing module."
   ]
  },
  {
   "cell_type": "markdown",
   "id": "eb959554",
   "metadata": {},
   "source": [
    "#### Answer:\n"
   ]
  },
  {
   "cell_type": "code",
   "execution_count": 1,
   "id": "70dc18ce",
   "metadata": {},
   "outputs": [
    {
     "name": "stdout",
     "output_type": "stream",
     "text": [
      "this is my main prod\n",
      "this is my multiprocessing prog\n"
     ]
    }
   ],
   "source": [
    "import multiprocessing\n",
    "\n",
    "def test():\n",
    "    print(\"this is my multiprocessing prog\")\n",
    "\n",
    "if __name__ == \"__main__\":\n",
    "    m = multiprocessing.Process(target=test)\n",
    "    print(\"this is my main prod\")\n",
    "    m.start()\n",
    "    m.join()"
   ]
  },
  {
   "cell_type": "markdown",
   "id": "3b9eec38",
   "metadata": {},
   "source": [
    "#### Q4. What is a multiprocessing pool in python? Why is it used?"
   ]
  },
  {
   "cell_type": "markdown",
   "id": "67a2b97e",
   "metadata": {},
   "source": [
    "#### Answer:\n",
    "In Python's multiprocessing module, a Pool is a convenient way to distribute work across multiple processes. A Pool object represents a pool of worker processes that can execute tasks in parallel, allowing us to take advantage of multiple CPUs and cores on a machine.\n",
    "\n",
    "The main advantage of using a Pool is that it abstracts away the details of process creation and communication, making it easy to parallelize simple functions or methods. We can simply submit a function and its arguments to the Pool and let it take care of the rest. The Pool will divide the work into chunks, distribute them among the worker processes, and collect the results."
   ]
  },
  {
   "cell_type": "markdown",
   "id": "56a84b3e",
   "metadata": {},
   "source": [
    "#### Q5. How can we create a pool of worker processes in python using the multiprocessing module?"
   ]
  },
  {
   "cell_type": "markdown",
   "id": "07992d32",
   "metadata": {},
   "source": [
    "#### Answer:\n"
   ]
  },
  {
   "cell_type": "code",
   "execution_count": 2,
   "id": "84ce24d0",
   "metadata": {},
   "outputs": [
    {
     "name": "stdout",
     "output_type": "stream",
     "text": [
      "[0, 1, 4, 9, 16, 25, 36, 49, 64, 81]\n"
     ]
    }
   ],
   "source": [
    "import multiprocessing\n",
    "\n",
    "def square(x):\n",
    "    return x * x\n",
    "\n",
    "if __name__ == '__main__':\n",
    "    with multiprocessing.Pool(processes=4) as pool:\n",
    "        result = pool.map(square, range(10))\n",
    "    print(result)\n"
   ]
  },
  {
   "cell_type": "markdown",
   "id": "845ea86c",
   "metadata": {},
   "source": [
    "##### Q6. Write a python program to create 4 processes, each process should print a different number using the multiprocessing module in python."
   ]
  },
  {
   "cell_type": "code",
   "execution_count": 3,
   "id": "cb2c9d1a",
   "metadata": {},
   "outputs": [
    {
     "name": "stdout",
     "output_type": "stream",
     "text": [
      "Process 0: 0\n",
      "Process 1: 1\n",
      "Process 2: 2\n",
      "Process 3: 3\n"
     ]
    }
   ],
   "source": [
    "import multiprocessing\n",
    "\n",
    "def print_number(num):\n",
    "    print(f\"Process {num}: {num}\")\n",
    "\n",
    "if __name__ == '__main__':\n",
    "    processes = []\n",
    "    for i in range(4):\n",
    "        process = multiprocessing.Process(target=print_number, args=(i,))\n",
    "        processes.append(process)\n",
    "        process.start()\n",
    "\n",
    "    for process in processes:\n",
    "        process.join()\n"
   ]
  },
  {
   "cell_type": "code",
   "execution_count": null,
   "id": "ee6aebcd-704c-4471-9b40-2bb8d5bf3e8f",
   "metadata": {},
   "outputs": [],
   "source": []
  }
 ],
 "metadata": {
  "kernelspec": {
   "display_name": "Python 3 (ipykernel)",
   "language": "python",
   "name": "python3"
  },
  "language_info": {
   "codemirror_mode": {
    "name": "ipython",
    "version": 3
   },
   "file_extension": ".py",
   "mimetype": "text/x-python",
   "name": "python",
   "nbconvert_exporter": "python",
   "pygments_lexer": "ipython3",
   "version": "3.10.8"
  }
 },
 "nbformat": 4,
 "nbformat_minor": 5
}
