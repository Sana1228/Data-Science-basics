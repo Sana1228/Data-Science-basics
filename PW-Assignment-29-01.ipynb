{
 "cells": [
  {
   "cell_type": "markdown",
   "id": "10ca7743",
   "metadata": {},
   "source": [
    "# Assignment 1 "
   ]
  },
  {
   "cell_type": "markdown",
   "id": "98874bac",
   "metadata": {},
   "source": [
    "### Day:- 29/01/2023"
   ]
  },
  {
   "cell_type": "markdown",
   "id": "9b2a00be",
   "metadata": {},
   "source": [
    "#### 1) Who developed Python Programming Language?\n",
    "\n",
    "Answer:-Guido van Rossum is a Dutch programmer best known as the creator of the Python programming language."
   ]
  },
  {
   "cell_type": "markdown",
   "id": "2d5ccad9",
   "metadata": {},
   "source": [
    "#### 2) Which type of programming does Python support?\n",
    "\n",
    "Answer:-Python is a multi-paradigm programming language. Object-oriented programming and structured programming are fully supported, and many of their features support functional programming and aspect-oriented programming (including metaprogramming and metaobjects).Python is an interpreted programming language, supporting object-oriented, structured, and functional programming."
   ]
  },
  {
   "cell_type": "markdown",
   "id": "0e1f544e",
   "metadata": {},
   "source": [
    "#### 3) Is python case sensitive when dealing with identifiers?\n",
    "\n",
    "Answer:-\n",
    "Yes, Python is a case-sensitive language, i.e., it treats uppercase and lowercase characters differently. This applies to identifiers too. You must avoid using the same name with different cases while naming identifiers."
   ]
  },
  {
   "cell_type": "markdown",
   "id": "1f8ffffc",
   "metadata": {},
   "source": [
    "#### 4) What is the correct extension of python file?\n",
    "\n",
    "Answer:- The extension for Python files is - . py"
   ]
  },
  {
   "cell_type": "markdown",
   "id": "6ab56dec",
   "metadata": {},
   "source": [
    "#### 5) Is python code compiled or interpreted?\n",
    "\n",
    "Answer:- Python is an interpreted language, which means the source code of a Python program is converted into bytecode that is then executed by the Python virtual machine. Python is different from major compiled languages, such as C and C + +, as Python code is not required to be built and linked like code for these languages."
   ]
  },
  {
   "cell_type": "markdown",
   "id": "e4fb27c7",
   "metadata": {},
   "source": [
    "#### 6) Name a few blocks of code used to define in Python language.\n",
    "\n",
    "Answer:-A Python program is constructed from code blocks. A block is a piece of Python program text that is executed as a unit. The following are blocks: a module, a function body, and a class definition."
   ]
  },
  {
   "cell_type": "markdown",
   "id": "1d7b16af",
   "metadata": {},
   "source": [
    "#### 7) State a character used to give single-line comments in Python.\n",
    "\n",
    "Answer:- We can write a single-line comment by adding a single # character before any statement or line of code."
   ]
  },
  {
   "cell_type": "markdown",
   "id": "06838bd0",
   "metadata": {},
   "source": [
    "#### 8) Mention functions which can help us to find the version of python that we are currently working on?\n",
    "\n",
    "Answer:-The functions sys.version and python_version() can help us to find the version of python that we are currently working on.We can also find the version of python using python -V command.\n"
   ]
  },
  {
   "cell_type": "markdown",
   "id": "5484906a",
   "metadata": {},
   "source": [
    "#### 9) Python supports the creation of anonymous functions at runtime using a construct called _________________\n",
    "\n",
    "Answer:- Lambda"
   ]
  },
  {
   "cell_type": "markdown",
   "id": "bb066cdf",
   "metadata": {},
   "source": [
    "#### 10) What does pip stand for python?\n",
    "\n",
    "Answer:- pip stands for  \"preferred installer program\" in Python."
   ]
  },
  {
   "cell_type": "markdown",
   "id": "1b9eaa9d",
   "metadata": {},
   "source": [
    "#### 11) Mention a few built-in functions in Python?\n",
    "\n",
    "Answer:- a few built-in functions in python are: print( ) function,type( ) function,input( ) function,abs( ) function,pow()function,dir( ) function,sorted( ) function,max( ) function,etc."
   ]
  },
  {
   "cell_type": "markdown",
   "id": "070209c3",
   "metadata": {},
   "source": [
    "#### 12) What is the maximum possible length of an identifier in Python?\n",
    "\n",
    "Answer:- An identifier can have a maximum length of 79 characters in Python. "
   ]
  },
  {
   "cell_type": "markdown",
   "id": "fc244654",
   "metadata": {},
   "source": [
    "#### 13) What are the benefits of using python?\n",
    "\n",
    "Answer:-Python is commonly used for developing websites and software, task automation, data analysis, and data visualization. Since it's relatively easy to learn, Python has been adopted by many non-programmers such as accountants and scientists, for a variety of everyday tasks, like organizing finances."
   ]
  },
  {
   "cell_type": "markdown",
   "id": "c0a82bf2",
   "metadata": {},
   "source": [
    "#### 14) How is memory managed in python?\n",
    "\n",
    "Answer:-Python uses a portion of the memory for internal use and non-object memory. Another part of the memory is used for Python object such as int, dict, list, etc. CPython contains the object allocator that allocates memory within the object area. The object allocator gets a call every time the new object needs space."
   ]
  },
  {
   "cell_type": "markdown",
   "id": "c985bc5d",
   "metadata": {},
   "source": [
    "#### 15) How to install Python on Windows and set path variables?\n",
    "\n",
    "Answer:- To install python on windows follow the below steps:-\n",
    "\n",
    "1. Open a browser to the Python website and download the Windows installer.\n",
    "\n",
    "2. Double click on the downloaded file and install Python for all users, and ensure that Python is added to your path.Click on Install now to begin. Adding Python to the path will enable us to use the Python interpreter from any part of the filesystem. \n",
    "\n",
    "3. After the installation is complete, click Disable path length limit and then Close. Disabling the path length limit means we can use more than 260 characters in a file path.\n",
    "\n",
    "4. Click Close to end the installation.\n",
    "\n",
    "Now, to set the path do the following:-\n",
    "\n",
    "1. First, we need to locate where the python is being installed after downloading it. Press WINDOWS key and search for “Python”.Click on open file location and you will be in a location where Python is installed, Copy the location path from the top by clicking over it.\n",
    "\n",
    "2. Now, we have to add the above-copied path as a variable so that windows can recognize. Search for “Environmental Variables”.Now click the “Environmental Variables” button.\n",
    "\n",
    "3. There will be two categories namely “User” and “System”, we have to add it in Users, click on New button in the User section. Now, add a Variable Name and Path which we copied previously and click OK. That’s it, DONE!\n",
    "\n",
    "Now, after adding the Python to the Environment variable, let’s check if the Python is running anywhere in the windows or not. To do this open CMD and type Python. If the environment variable is set then the Python command will run otherwise not."
   ]
  },
  {
   "cell_type": "markdown",
   "id": "945d9420",
   "metadata": {},
   "source": [
    "#### 16) Is indentation required in Python?\n",
    "\n",
    "Answer:-Indentation refers to the spaces at the beginning of a code line. Where in other programming languages the indentation in code is for readability only, the indentation in Python is very important. Python uses indentation to indicate a block of code."
   ]
  },
  {
   "cell_type": "code",
   "execution_count": null,
   "id": "e8e2ac6f",
   "metadata": {},
   "outputs": [],
   "source": []
  }
 ],
 "metadata": {
  "kernelspec": {
   "display_name": "Python 3 (ipykernel)",
   "language": "python",
   "name": "python3"
  },
  "language_info": {
   "codemirror_mode": {
    "name": "ipython",
    "version": 3
   },
   "file_extension": ".py",
   "mimetype": "text/x-python",
   "name": "python",
   "nbconvert_exporter": "python",
   "pygments_lexer": "ipython3",
   "version": "3.9.12"
  }
 },
 "nbformat": 4,
 "nbformat_minor": 5
}
