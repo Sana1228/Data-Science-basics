{
 "cells": [
  {
   "cell_type": "markdown",
   "id": "95153101",
   "metadata": {},
   "source": [
    "# Assignment 10"
   ]
  },
  {
   "cell_type": "markdown",
   "id": "fb2834cc",
   "metadata": {},
   "source": [
    "## Date:- 10/02/2024"
   ]
  },
  {
   "cell_type": "markdown",
   "id": "b3331f01",
   "metadata": {},
   "source": [
    "#### Q1. Which function is used to open a file? What are the different modes of opening a file? Explain each mode of file opening."
   ]
  },
  {
   "cell_type": "markdown",
   "id": "32b4e3e7",
   "metadata": {},
   "source": [
    "#### Answer:\n",
    "#### In Python, the built-in function used to open a file is also called open().The open() function takes two arguments: the first is the filename, including the path to the file, and the second is the mode in which to open the file.\n",
    "\n",
    "#### Here are the different modes of opening a file in Python:\n",
    "\n",
    "1:\"r\" (Read mode): This is the default mode, which opens a file for reading. If the file does not exist, it will throw a FileNotFoundError. This mode is used when you want to read data from the file.\n",
    "\n",
    "2:\"w\" (Write mode): This mode opens a file for writing. If the file already exists, its contents will be overwritten. If the file does not exist, a new file will be created. This mode is used when you want to write data to the file.\n",
    "\n",
    "3:\"a\" (Append mode): This mode opens a file for writing as well, but instead of overwriting the file, it appends the new data to the end of the file. If the file does not exist, a new file will be created. This mode is useful when you want to add new data to the end of an existing file.\n",
    "\n",
    "4:\"x\" (Exclusive creation mode): This mode opens a file for writing, but only if the file does not already exist. If the file exists, it will throw a FileExistsError. This mode is useful when you want to create a new file and ensure that it does not overwrite an existing file.\n",
    "\n",
    "5:\"b\" (Binary mode): This mode is used to open a file in binary mode. This is typically used when working with non-text files, such as images or audio files.\n",
    "\n",
    "6:\"t\" (Text mode): This is the default mode and is used to open a file in text mode. This mode is used when working with text files, such as .txt files.\n",
    "\n",
    "7:\"+\" (Read and Write mode): This mode opens a file for both reading and writing. This mode is useful when you want to read and write to the same file.\n",
    "\n",
    "To use these modes, you simply pass them as a string as the second argument to the open() function. For example, to open a file called \"myfile.txt\" in read mode, you would use:\n",
    "file = open(\"myfile.txt\", \"r\")"
   ]
  },
  {
   "cell_type": "markdown",
   "id": "3c18a277",
   "metadata": {},
   "source": [
    "#### Q2. Why close() function is used? Why is it important to close a file?"
   ]
  },
  {
   "cell_type": "markdown",
   "id": "f24a69fa",
   "metadata": {},
   "source": [
    "#### Answer:\n",
    "In Python, the close() function is used to close a file that has been opened using the open() function.\n",
    "\n",
    "It is important to close a file after you are finished working with it because it releases the resources that were being used to keep the file open. When a file is open, the operating system allocates certain resources to it, such as memory and file descriptors. If the file is not closed properly, these resources may not be released, which can lead to memory leaks or other problems.\n",
    "\n",
    "Additionally, if you try to open a file that is already open, you may get a FileNotFoundError or a PermissionError. Therefore, it is good practice to close files when you are done using them."
   ]
  },
  {
   "cell_type": "markdown",
   "id": "ba2acba0",
   "metadata": {},
   "source": [
    "#### Q3. Write a python program to create a text file. Write ‘I want to become a Data Scientist’ in that file. Then close the file. Open this file and read the content of the file."
   ]
  },
  {
   "cell_type": "code",
   "execution_count": 1,
   "id": "7afffd4b",
   "metadata": {},
   "outputs": [
    {
     "name": "stdout",
     "output_type": "stream",
     "text": [
      "I want to become a Data Scientist\n"
     ]
    }
   ],
   "source": [
    "# Open the file in write mode\n",
    "file = open(\"my_file.txt\", \"w\")\n",
    "\n",
    "# Write the string to the file\n",
    "file.write(\"I want to become a Data Scientist\")\n",
    "\n",
    "# Close the file\n",
    "file.close()\n",
    "\n",
    "# Open the file in read mode\n",
    "file = open(\"my_file.txt\", \"r\")\n",
    "\n",
    "# Read the contents of the file\n",
    "contents = file.read()\n",
    "\n",
    "# Print the contents of the file\n",
    "print(contents)\n",
    "\n",
    "# Close the file\n",
    "file.close()"
   ]
  },
  {
   "cell_type": "markdown",
   "id": "49a8a48f",
   "metadata": {},
   "source": [
    "#### Q4. Explain the following with python code: read(), readline() and readlines()."
   ]
  },
  {
   "cell_type": "markdown",
   "id": "da53865f",
   "metadata": {},
   "source": [
    "#### Answer\n",
    "In Python, the read(), readline(), and readlines() functions are used to read data from a file. Here's an explanation of each function with example code:\n",
    "\n",
    "1: read(): The read() function is used to read the entire contents of a file. It returns a string that contains all the data in the file. Example:"
   ]
  },
  {
   "cell_type": "code",
   "execution_count": 2,
   "id": "b740951b",
   "metadata": {},
   "outputs": [
    {
     "name": "stdout",
     "output_type": "stream",
     "text": [
      "I want to become a Data Scientist\n"
     ]
    }
   ],
   "source": [
    "# Open the file in read mode\n",
    "file = open(\"my_file.txt\", \"r\")\n",
    "\n",
    "# Read the entire contents of the file\n",
    "contents = file.read()\n",
    "\n",
    "# Print the contents of the file\n",
    "print(contents)\n",
    "\n",
    "# Close the file\n",
    "file.close()"
   ]
  },
  {
   "cell_type": "markdown",
   "id": "3eaaa980",
   "metadata": {},
   "source": [
    "In this example, the read() function is used to read the entire contents of the file \"my_file.txt\" and store them in the variable contents."
   ]
  },
  {
   "cell_type": "markdown",
   "id": "2ed32cc9",
   "metadata": {},
   "source": [
    "2: readline(): The readline() function is used to read a single line from a file. It returns a string that contains the data in the line, including the newline character at the end of the line. \n",
    "\n",
    "Example:"
   ]
  },
  {
   "cell_type": "code",
   "execution_count": 3,
   "id": "2123647f",
   "metadata": {},
   "outputs": [
    {
     "name": "stdout",
     "output_type": "stream",
     "text": [
      "I want to become a Data Scientist\n"
     ]
    }
   ],
   "source": [
    "# Open the file in read mode\n",
    "file = open(\"my_file.txt\", \"r\")\n",
    "\n",
    "# Read the first line of the file\n",
    "line = file.readline()\n",
    "\n",
    "# Print the line\n",
    "print(line)\n",
    "\n",
    "# Close the file\n",
    "file.close()"
   ]
  },
  {
   "cell_type": "markdown",
   "id": "690324b4",
   "metadata": {},
   "source": [
    "In this example, the readline() function is used to read the first line of the file \"my_file.txt\" and store it in the variable line.\n",
    "\n",
    "3: readlines(): The readlines() function is used to read all the lines in a file and return them as a list of strings, where each string represents a single line from the file."
   ]
  },
  {
   "cell_type": "code",
   "execution_count": 4,
   "id": "a29a7da1",
   "metadata": {},
   "outputs": [
    {
     "name": "stdout",
     "output_type": "stream",
     "text": [
      "I want to become a Data Scientist\n"
     ]
    }
   ],
   "source": [
    "# Open the file in read mode\n",
    "file = open(\"my_file.txt\", \"r\")\n",
    "\n",
    "# Read all the lines of the file\n",
    "lines = file.readlines()\n",
    "\n",
    "# Print each line\n",
    "for line in lines:\n",
    "    print(line)\n",
    "\n",
    "# Close the file\n",
    "file.close()"
   ]
  },
  {
   "cell_type": "markdown",
   "id": "ea3e05d3",
   "metadata": {},
   "source": [
    "In this example, the readlines() function is used to read all the lines in the file \"my_file.txt\" and store them in the list lines. We then print each line using a for loop."
   ]
  },
  {
   "cell_type": "markdown",
   "id": "abc3d708",
   "metadata": {},
   "source": [
    "#### Q5. Explain why with statement is used with open(). What is the advantage of using with statement and open() together?"
   ]
  },
  {
   "cell_type": "markdown",
   "id": "02177c4e",
   "metadata": {},
   "source": [
    "#### Answer:\n",
    "The with statement in Python is used with the open() function to ensure that the file is properly closed after its suite (block of code) finishes executing, regardless of whether an exception occurs or not.\n",
    "\n",
    "The with statement provides a way to simplify code that uses files by eliminating the need to explicitly close the file using the close() function. Instead, it automatically closes the file when the suite of the with statement is finished executing.\n",
    "\n",
    "The advantage of using with statement and open() together is that it ensures that the file is always properly closed, even if an exception is raised within the suite of the with statement. This is because the with statement guarantees that the file is closed when the block of code within it completes, regardless of how control exits the block (e.g. normal completion, break, return, or an exception). This can help prevent memory leaks and other resource issues that can arise from leaving files open unintentionally.\n",
    "\n",
    "In summary, using with statement and open() together provides a more concise and safer way of working with files in Python."
   ]
  },
  {
   "cell_type": "markdown",
   "id": "f862606d",
   "metadata": {},
   "source": [
    "#### Q6. Explain the write() and writelines() functions. Give a suitable example."
   ]
  },
  {
   "cell_type": "markdown",
   "id": "076bb73c",
   "metadata": {},
   "source": [
    "#### Answer\n",
    "In Python, the write() and writelines() functions are used to write data to a file. Both of these functions can be used to write text or binary data to a file.\n",
    "\n",
    "The write() function is used to write a single string to a file. \n",
    "\n",
    "If the file already exists, write() will overwrite the existing data with the new data. \n",
    "\n",
    "If the file does not exist, write() will create a new file with the specified name and write the data to it.\n",
    "\n",
    "Example:"
   ]
  },
  {
   "cell_type": "code",
   "execution_count": 14,
   "id": "47519a86",
   "metadata": {},
   "outputs": [
    {
     "name": "stdout",
     "output_type": "stream",
     "text": [
      "Hello, World!\n"
     ]
    }
   ],
   "source": [
    "# Open the file in write mode\n",
    "file = open(\"my_file.txt\", \"w\")\n",
    "\n",
    "# Write a string to the file\n",
    "file.write(\"Hello, World!\")\n",
    "\n",
    "# Open the file in read mode\n",
    "file = open(\"my_file.txt\", \"r\")\n",
    "\n",
    "# Read the entire contents of the file\n",
    "contents = file.read()\n",
    "\n",
    "# Print the contents of the file\n",
    "print(contents)\n",
    "\n",
    "# Close the file\n",
    "file.close()"
   ]
  },
  {
   "cell_type": "markdown",
   "id": "0276c86e",
   "metadata": {},
   "source": [
    "In this example, the write() function is used to write the string \"Hello, World!\" to the file \"my_file.txt\" in write mode.\n",
    "\n",
    "2: writelines(): The writelines() function is used to write a list of strings to a file. Each string in the list will be written to the file as a separate line. \n",
    "\n",
    "Example:"
   ]
  },
  {
   "cell_type": "code",
   "execution_count": 10,
   "id": "f4227d28",
   "metadata": {},
   "outputs": [],
   "source": [
    "lines = ['This is the first line.', 'This is the second line.', 'This is the third line.']\n",
    "\n",
    "with open('my_file.txt', 'w') as file:\n",
    "    file.writelines(lines)"
   ]
  },
  {
   "cell_type": "markdown",
   "id": "a800d5c4",
   "metadata": {},
   "source": [
    "In this example, we are creating a list of three strings called lines. We then open a file called example.txt in write mode ('w'). We use the writelines() function to write each string in the lines list to the file as a separate line."
   ]
  },
  {
   "cell_type": "code",
   "execution_count": 11,
   "id": "7c56e24a",
   "metadata": {},
   "outputs": [
    {
     "name": "stdout",
     "output_type": "stream",
     "text": [
      "This is the first line.This is the second line.This is the third line.\n"
     ]
    }
   ],
   "source": [
    "# Open the file in read mode\n",
    "file = open(\"my_file.txt\", \"r\")\n",
    "\n",
    "# Read the entire contents of the file\n",
    "contents = file.read()\n",
    "\n",
    "# Print the contents of the file\n",
    "print(contents)\n",
    "\n",
    "# Close the file\n",
    "file.close()"
   ]
  },
  {
   "cell_type": "code",
   "execution_count": null,
   "id": "e87a8e9b",
   "metadata": {},
   "outputs": [],
   "source": []
  }
 ],
 "metadata": {
  "kernelspec": {
   "display_name": "Python 3 (ipykernel)",
   "language": "python",
   "name": "python3"
  },
  "language_info": {
   "codemirror_mode": {
    "name": "ipython",
    "version": 3
   },
   "file_extension": ".py",
   "mimetype": "text/x-python",
   "name": "python",
   "nbconvert_exporter": "python",
   "pygments_lexer": "ipython3",
   "version": "3.9.12"
  }
 },
 "nbformat": 4,
 "nbformat_minor": 5
}
