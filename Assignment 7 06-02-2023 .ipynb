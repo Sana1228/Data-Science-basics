{
 "cells": [
  {
   "cell_type": "markdown",
   "id": "630c835a",
   "metadata": {},
   "source": [
    "# Assignment 7"
   ]
  },
  {
   "cell_type": "markdown",
   "id": "45bfbab2",
   "metadata": {},
   "source": [
    "## Date :  06/02/2023"
   ]
  },
  {
   "cell_type": "markdown",
   "id": "77ab0f79",
   "metadata": {},
   "source": [
    "#### Q1. Create a function which will take a list as an argument and return the product of all the numbers after creating a flat list. Use the below-given list as an argument for your function.\n",
    "#### list1 = [1,2,3,4, [44,55,66, True], False, (34,56,78,89,34), {1,2,3,3,2,1}, {1:34, \"key2\": [55, 67, 78, 89], 4: (45, 22, 61, 34)}, [56, 'data science'], 'Machine Learning']\n",
    "\n",
    "#### Note: you must extract numeric keys and values of the dictionary also."
   ]
  },
  {
   "cell_type": "markdown",
   "id": "f8624c90",
   "metadata": {},
   "source": [
    "Answer: "
   ]
  },
  {
   "cell_type": "code",
   "execution_count": 32,
   "id": "8edea1de",
   "metadata": {},
   "outputs": [],
   "source": [
    "from functools import  reduce\n",
    "list1 = [1,2,3,4, [44,55,66, True], False, (34,56,78,89,34), {1,2,3,3,2,1},\n",
    "         {1:34, \"key2\": [55, 67, 78, 89], 4: (45, 22, 61, 34)}, [56, 'data science'], 'Machine Learning']\n",
    "\n",
    "def fun(x):\n",
    "    l=[] # intializing the flat list\n",
    "    for i in x: #iterating over all elements of the list\n",
    "        if type(i) == list : #checking if the element is a list\n",
    "            for a in i :\n",
    "                if type(a) == int or type(a) == float :\n",
    "                    l.append(a)\n",
    "        elif type(i) == tuple : #checking if the element is a tuple\n",
    "            for b in i :\n",
    "                if type(b) == int or type(b) == float :\n",
    "                    l.append(b)\n",
    "        elif type(i) == set : #checking if the element is a set, also the set will remove all the duplicate values so they won't be multiplied\n",
    "            for c in i:\n",
    "                if type(c) == int or type(c) == float :\n",
    "                    l.append(c)\n",
    "        elif type(i) == int or type(i) == float :\n",
    "                l.append(i)\n",
    "        elif type(i) == dict : #checking if the element is a dictionary\n",
    "            for d in i.values():\n",
    "                if type(d) == int or type(d) == float :\n",
    "                    l.append(d)\n",
    "                elif type(d) == list : #checking if the dict value is a list\n",
    "                    for f in d:\n",
    "                        if type(f) == int or type(f) == float :\n",
    "                            l.append(f)\n",
    "                elif type(d) == tuple : #checking if the dict value is a tuple\n",
    "                    for g in d:\n",
    "                        if type(g) == int or type(g) == float :\n",
    "                            l.append(g)\n",
    "            for e in i.keys():\n",
    "                if type(e) == int or type(e) == float :\n",
    "                    l.append(e)\n",
    "    #return l # a flat list containing all the numbers will be returned\n",
    "    #print(\"The flatenned list is\",l)\n",
    "    mul=reduce(lambda x,y:x*y,l)\n",
    "    return mul\n",
    "    #print(reduce(lambda x:x*y,l))\n",
    "                \n",
    "        "
   ]
  },
  {
   "cell_type": "code",
   "execution_count": 33,
   "id": "dd93a430",
   "metadata": {},
   "outputs": [
    {
     "data": {
      "text/plain": [
       "4134711838987085478833841242112000"
      ]
     },
     "execution_count": 33,
     "metadata": {},
     "output_type": "execute_result"
    }
   ],
   "source": [
    "fun(list1)"
   ]
  },
  {
   "cell_type": "markdown",
   "id": "e6513072",
   "metadata": {},
   "source": [
    "#### Q2. Write a python program for encrypting a message sent to you by your friend. The logic of encryption should be such that, for a the output should be z. For b, the output should be y. For c, the output should be x respectively. Also, the whitespace should be replaced with a dollar sign. Keep the punctuation marks unchanged.\n",
    "\n",
    "#### Input Sentence: I want to become a Data Scientist.\n",
    "\n",
    "#### Encrypt the above input sentence using the program you just created.\n",
    "\n",
    "#### Note: Convert the given input sentence into lowercase before encrypting. The final output should be lowercase."
   ]
  },
  {
   "cell_type": "code",
   "execution_count": 64,
   "id": "44013198",
   "metadata": {},
   "outputs": [],
   "source": [
    "#Answer:\n",
    "s = \"I want to become a Data Scientist.\"\n",
    "\n",
    "def sen(sentence):\n",
    "    new_s=sentence.lower()\n",
    "    a=\"\"\n",
    "    for i in new_s:\n",
    "        if i >= 'a' and i <= 'z':\n",
    "            i= chr(ord('z') - ord(i) + ord('a'))\n",
    "            a = a + i\n",
    "        elif i == \" \":\n",
    "            i = \"$\"\n",
    "            a = a + i\n",
    "        else:\n",
    "            a = a + i\n",
    "    return a\n",
    "            \n",
    "            "
   ]
  },
  {
   "cell_type": "code",
   "execution_count": 65,
   "id": "e46a4a30",
   "metadata": {},
   "outputs": [
    {
     "data": {
      "text/plain": [
       "'r$dzmg$gl$yvxlnv$z$wzgz$hxrvmgrhg.'"
      ]
     },
     "execution_count": 65,
     "metadata": {},
     "output_type": "execute_result"
    }
   ],
   "source": [
    "sen(s)"
   ]
  },
  {
   "cell_type": "code",
   "execution_count": null,
   "id": "3bfbd58e",
   "metadata": {},
   "outputs": [],
   "source": []
  }
 ],
 "metadata": {
  "kernelspec": {
   "display_name": "Python 3 (ipykernel)",
   "language": "python",
   "name": "python3"
  },
  "language_info": {
   "codemirror_mode": {
    "name": "ipython",
    "version": 3
   },
   "file_extension": ".py",
   "mimetype": "text/x-python",
   "name": "python",
   "nbconvert_exporter": "python",
   "pygments_lexer": "ipython3",
   "version": "3.9.12"
  }
 },
 "nbformat": 4,
 "nbformat_minor": 5
}
