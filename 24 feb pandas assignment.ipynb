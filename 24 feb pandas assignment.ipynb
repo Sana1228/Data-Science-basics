{
 "cells": [
  {
   "cell_type": "markdown",
   "id": "1ee5b035",
   "metadata": {},
   "source": [
    "# Assignment 22"
   ]
  },
  {
   "cell_type": "markdown",
   "id": "8033c735",
   "metadata": {},
   "source": [
    "## date :- 24/02/2023"
   ]
  },
  {
   "cell_type": "markdown",
   "id": "67534841",
   "metadata": {},
   "source": [
    "#### Q1. List any five functions of the pandas library with execution."
   ]
  },
  {
   "cell_type": "markdown",
   "id": "56b2af8d",
   "metadata": {},
   "source": [
    "#### Answer:\n",
    "Here are five commonly used functions in the Pandas library with examples:\n",
    "\n",
    "read_csv(): This function is used to read a CSV file and create a DataFrame from its contents. Here's an example:"
   ]
  },
  {
   "cell_type": "raw",
   "id": "360d3cc4",
   "metadata": {},
   "source": [
    "import pandas as pd\n",
    "\n",
    "# Read a CSV file and create a DataFrame\n",
    "df = pd.read_csv('data.csv')\n",
    "\n",
    "# Display the first few rows of the DataFrame\n",
    "print(df.head())"
   ]
  },
  {
   "cell_type": "markdown",
   "id": "d51e0dfa",
   "metadata": {},
   "source": [
    "dropna(): This function is used to remove missing or null values from a DataFrame. Here's an example:"
   ]
  },
  {
   "cell_type": "code",
   "execution_count": 1,
   "id": "0a596827",
   "metadata": {},
   "outputs": [
    {
     "name": "stdout",
     "output_type": "stream",
     "text": [
      "     A    B\n",
      "1  2.0  6.0\n",
      "3  4.0  8.0\n"
     ]
    }
   ],
   "source": [
    "import pandas as pd\n",
    "\n",
    "# Create a DataFrame with missing values\n",
    "df = pd.DataFrame({'A': [1, 2, None, 4], 'B': [None, 6, 7, 8]})\n",
    "\n",
    "# Remove rows with missing values\n",
    "df = df.dropna()\n",
    "\n",
    "# Display the resulting DataFrame\n",
    "print(df)\n"
   ]
  },
  {
   "cell_type": "markdown",
   "id": "509f8cb9",
   "metadata": {},
   "source": [
    "groupby(): This function is used to group a DataFrame by one or more columns and perform aggregate functions on the groups. Here's an example:"
   ]
  },
  {
   "cell_type": "code",
   "execution_count": 2,
   "id": "5ec1501a",
   "metadata": {},
   "outputs": [
    {
     "name": "stdout",
     "output_type": "stream",
     "text": [
      "Product  Region\n",
      "A        East      120\n",
      "         North     100\n",
      "         South     150\n",
      "B        East      180\n",
      "         North     200\n",
      "         South     250\n",
      "Name: Sales, dtype: int64\n"
     ]
    }
   ],
   "source": [
    "import pandas as pd\n",
    "\n",
    "# Create a DataFrame of sales data\n",
    "df = pd.DataFrame({\n",
    "    'Product': ['A', 'B', 'A', 'B', 'A', 'B'],\n",
    "    'Region': ['North', 'North', 'South', 'South', 'East', 'East'],\n",
    "    'Sales': [100, 200, 150, 250, 120, 180]\n",
    "})\n",
    "\n",
    "# Group the data by product and region, and calculate the sum of sales for each group\n",
    "grouped = df.groupby(['Product', 'Region'])['Sales'].sum()\n",
    "\n",
    "# Display the resulting DataFrame\n",
    "print(grouped)\n"
   ]
  },
  {
   "cell_type": "markdown",
   "id": "ab637515",
   "metadata": {},
   "source": [
    "merge(): This function is used to merge two or more DataFrames based on a common column or index. Here's an example:"
   ]
  },
  {
   "cell_type": "code",
   "execution_count": 3,
   "id": "d3466bf4",
   "metadata": {},
   "outputs": [
    {
     "name": "stdout",
     "output_type": "stream",
     "text": [
      "   A  B  C\n",
      "0  2  5  7\n",
      "1  3  6  8\n"
     ]
    }
   ],
   "source": [
    "import pandas as pd\n",
    "\n",
    "# Create two DataFrames to merge\n",
    "df1 = pd.DataFrame({'A': [1, 2, 3], 'B': [4, 5, 6]})\n",
    "df2 = pd.DataFrame({'A': [2, 3, 4], 'C': [7, 8, 9]})\n",
    "\n",
    "# Merge the two DataFrames on column A\n",
    "merged = pd.merge(df1, df2, on='A')\n",
    "\n",
    "# Display the resulting DataFrame\n",
    "print(merged)\n"
   ]
  },
  {
   "cell_type": "markdown",
   "id": "839868b6",
   "metadata": {},
   "source": [
    "pivot_table(): This function is used to create a pivot table from a DataFrame, which summarizes the data by one or more columns. Here's an example:"
   ]
  },
  {
   "cell_type": "code",
   "execution_count": 4,
   "id": "9adf2435",
   "metadata": {},
   "outputs": [
    {
     "name": "stdout",
     "output_type": "stream",
     "text": [
      "Region    East  North  South\n",
      "Product                     \n",
      "A        300.0  100.0  150.0\n",
      "B          NaN  200.0  250.0\n"
     ]
    }
   ],
   "source": [
    "import pandas as pd\n",
    "\n",
    "# Create a DataFrame of sales data\n",
    "df = pd.DataFrame({\n",
    "    'Product': ['A', 'A', 'B', 'B', 'A', 'A'],\n",
    "    'Region': ['North', 'South', 'North', 'South', 'East', 'East'],\n",
    "    'Sales': [100, 150, 200, 250, 120, 180]\n",
    "})\n",
    "\n",
    "# Create a pivot table of the sales data, summarized by product and region\n",
    "pivot = pd.pivot_table(df, values='Sales', index='Product', columns='Region', aggfunc='sum')\n",
    "\n",
    "# Display the resulting pivot table\n",
    "print(pivot)\n"
   ]
  },
  {
   "cell_type": "markdown",
   "id": "cf1f318c",
   "metadata": {},
   "source": [
    "#### Q2. Given a Pandas DataFrame df with columns 'A', 'B', and 'C', write a Python function to re-index the DataFrame with a new index that starts from 1 and increments by 2 for each row."
   ]
  },
  {
   "cell_type": "markdown",
   "id": "18c6cb94",
   "metadata": {},
   "source": [
    "#### Answer:"
   ]
  },
  {
   "cell_type": "code",
   "execution_count": 19,
   "id": "e58d96e9",
   "metadata": {},
   "outputs": [
    {
     "name": "stdout",
     "output_type": "stream",
     "text": [
      "   A  B  C\n",
      "0  1  4  7\n",
      "1  2  5  8\n",
      "2  3  6  9\n",
      "   A  B  C\n",
      "1  1  4  7\n",
      "3  2  5  8\n",
      "5  3  6  9\n"
     ]
    }
   ],
   "source": [
    "import pandas as pd\n",
    "\n",
    "def reindex_dataframe(df):\n",
    "    # Create a new index that starts from 1 and increments by 2 for each row\n",
    "    df.index= pd.RangeIndex(range(1, 2*len(df)+1, 2))\n",
    "    \n",
    "    return df\n",
    "\n",
    "# Create a sample DataFrame\n",
    "df = pd.DataFrame({'A': [1, 2, 3], 'B': [4, 5, 6], 'C': [7, 8, 9]})\n",
    "print(df)\n",
    "\n",
    "# Re-index the DataFrame using the function\n",
    "df = reindex_dataframe(df)\n",
    "\n",
    "# Print the resulting DataFrame\n",
    "print(df)\n"
   ]
  },
  {
   "cell_type": "markdown",
   "id": "7bf4d27c",
   "metadata": {},
   "source": [
    "#### Q3. You have a Pandas DataFrame df with a column named 'Values'. Write a Python function that iterates over the DataFrame and calculates the sum of the first three values in the 'Values' column. The function should print the sum to the console.\n",
    "\n",
    "#### For example, if the 'Values' column of df contains the values [10, 20, 30, 40, 50], your function should calculate and print the sum of the first three values, which is 60."
   ]
  },
  {
   "cell_type": "markdown",
   "id": "e3b72d4f",
   "metadata": {},
   "source": [
    "#### answer:\n"
   ]
  },
  {
   "cell_type": "code",
   "execution_count": 21,
   "id": "21908609",
   "metadata": {},
   "outputs": [
    {
     "name": "stdout",
     "output_type": "stream",
     "text": [
      "The sum of the first three values in the 'Values' column is: 60\n"
     ]
    }
   ],
   "source": [
    "def sum_first_three_values(df):\n",
    "    # Get the first three values in the 'Values' column\n",
    "    first_three_values = df['Values'][:3]\n",
    "\n",
    "    # Calculate the sum of the first three values\n",
    "    sum_of_first_three_values = first_three_values.sum()\n",
    "\n",
    "    # Print the sum to the console\n",
    "    print(\"The sum of the first three values in the 'Values' column is:\", sum_of_first_three_values)\n",
    "\n",
    "# Create a sample DataFrame\n",
    "import pandas as pd\n",
    "df = pd.DataFrame({'Values': [10, 20, 30, 40, 50]})\n",
    "\n",
    "# Call the function to calculate the sum of the first three values\n",
    "sum_first_three_values(df)"
   ]
  },
  {
   "cell_type": "markdown",
   "id": "09551f94",
   "metadata": {},
   "source": [
    "#### Q4. Given a Pandas DataFrame df with a column 'Text', write a Python function to create a new column 'Word_Count' that contains the number of words in each row of the 'Text' column."
   ]
  },
  {
   "cell_type": "markdown",
   "id": "9fd0cfd6",
   "metadata": {},
   "source": [
    "#### Answer:"
   ]
  },
  {
   "cell_type": "code",
   "execution_count": 27,
   "id": "a0a23da8",
   "metadata": {},
   "outputs": [
    {
     "name": "stdout",
     "output_type": "stream",
     "text": [
      "                      Text  Word_Count\n",
      "0  My name is Sana Simran.           5\n",
      "1     I love Data Science.           4\n"
     ]
    }
   ],
   "source": [
    "import pandas as pd\n",
    "\n",
    "def add_word_count_column(df):\n",
    "    # Split the 'Text' column into a list of words\n",
    "    word_lists = df['Text'].str.split()\n",
    "\n",
    "    # Count the number of words in each list\n",
    "    word_counts = word_lists.apply(len)\n",
    "\n",
    "    # Add the 'Word_Count' column to the DataFrame\n",
    "    df['Word_Count'] = word_counts\n",
    "\n",
    "    # Return the modified DataFrame\n",
    "    return df\n",
    "\n",
    "# Create a sample DataFrame\n",
    "df = pd.DataFrame({'Text': ['My name is Sana Simran.', 'I love Data Science.']})\n",
    "\n",
    "# Add the 'Word_Count' column using the function\n",
    "df = add_word_count_column(df)\n",
    "\n",
    "# Print the modified DataFrame\n",
    "print(df)\n"
   ]
  },
  {
   "cell_type": "markdown",
   "id": "9d3dfc51",
   "metadata": {},
   "source": [
    "#### Q5. How are DataFrame.size() and DataFrame.shape() different?"
   ]
  },
  {
   "cell_type": "markdown",
   "id": "8a9385f8",
   "metadata": {},
   "source": [
    "#### Answer:\n",
    "DataFrame.size and DataFrame.shape are both methods in Pandas that provide information about the dimensions of a DataFrame, but they return different values.\n",
    "\n",
    "DataFrame.size returns the total number of elements in the DataFrame, which is equal to the number of rows multiplied by the number of columns.\n",
    "\n",
    "DataFrame.shape returns a tuple that contains the number of rows and the number of columns in the DataFrame"
   ]
  },
  {
   "cell_type": "code",
   "execution_count": 28,
   "id": "cc2e71c6",
   "metadata": {},
   "outputs": [
    {
     "data": {
      "text/plain": [
       "4"
      ]
     },
     "execution_count": 28,
     "metadata": {},
     "output_type": "execute_result"
    }
   ],
   "source": [
    "#df here is the dataframe from above question\n",
    "df.size"
   ]
  },
  {
   "cell_type": "code",
   "execution_count": 29,
   "id": "ded891e7",
   "metadata": {},
   "outputs": [
    {
     "data": {
      "text/plain": [
       "(2, 2)"
      ]
     },
     "execution_count": 29,
     "metadata": {},
     "output_type": "execute_result"
    }
   ],
   "source": [
    "df.shape"
   ]
  },
  {
   "cell_type": "markdown",
   "id": "f7df010b",
   "metadata": {},
   "source": [
    "#### Q6. Which function of pandas do we use to read an excel file?"
   ]
  },
  {
   "cell_type": "markdown",
   "id": "c08fa193",
   "metadata": {},
   "source": [
    "#### Answer : \n",
    "To read an Excel file in pandas, we use the read_excel() function. This function can read data from an Excel file and return a pandas DataFrame"
   ]
  },
  {
   "cell_type": "markdown",
   "id": "792cb5cb",
   "metadata": {},
   "source": [
    "####  Q7. You have a Pandas DataFrame df that contains a column named 'Email' that contains email addresses in the format 'username@domain.com'. Write a Python function that creates a new column 'Username' in df that contains only the username part of each email address. \n",
    "\n",
    "#### The username is the part of the email address that appears before the '@' symbol. For example, if the email address is 'john.doe@example.com', the 'Username' column should contain 'john.doe'. Your function should extract the username from each email address and store it in the new 'Username' column."
   ]
  },
  {
   "cell_type": "markdown",
   "id": "72269fcd",
   "metadata": {},
   "source": [
    "#### Answer:"
   ]
  },
  {
   "cell_type": "code",
   "execution_count": 31,
   "id": "4a430581",
   "metadata": {},
   "outputs": [
    {
     "name": "stdout",
     "output_type": "stream",
     "text": [
      "                        Email          Username\n",
      "0        john.doe@example.com          john.doe\n",
      "1        jane.doe@example.com          jane.doe\n",
      "2       bob.smith@example.com         bob.smith\n",
      "3  sanasimrankhan88@gmail.com  sanasimrankhan88\n",
      "4     zishanalam989@gmail.com     zishanalam989\n"
     ]
    }
   ],
   "source": [
    "def extract_username(df):\n",
    "    # Split the 'Email' column by the '@' symbol and take the first part\n",
    "    df['Username'] = df['Email'].str.split('@').str[0]\n",
    "    return df\n",
    "df = pd.DataFrame({'Email': ['john.doe@example.com', 'jane.doe@example.com', 'bob.smith@example.com', 'sanasimrankhan88@gmail.com','zishanalam989@gmail.com']})\n",
    "df = extract_username(df)\n",
    "print(df)"
   ]
  },
  {
   "cell_type": "markdown",
   "id": "eb7128c4",
   "metadata": {},
   "source": [
    "#### Q8. You have a Pandas DataFrame df with columns 'A', 'B', and 'C'. Write a Python function that selects all rows where the value in column 'A' is greater than 5 and the value in column 'B' is less than 10. The function should return a new DataFrame that contains only the selected rows.\n",
    "\n",
    "#### For example, if df contains the following values:\n",
    "\n",
    "    A B C\n",
    "\n",
    "0 3 5 1\n",
    "\n",
    "1 8 2 7\n",
    "\n",
    "2 6 9 4\n",
    "\n",
    "3 2 3 5\n",
    "\n",
    "4 9 1 2"
   ]
  },
  {
   "cell_type": "markdown",
   "id": "04007e25",
   "metadata": {},
   "source": [
    "#### Your function should select the following rows: A B C\n",
    "1 8 2 7\n",
    "\n",
    "4 9 1 2\n",
    "\n",
    "#### The function should return a new DataFrame that contains only the selected rows."
   ]
  },
  {
   "cell_type": "markdown",
   "id": "2cd7aa90",
   "metadata": {},
   "source": [
    "#### Answer :"
   ]
  },
  {
   "cell_type": "code",
   "execution_count": 35,
   "id": "57da1036",
   "metadata": {},
   "outputs": [
    {
     "name": "stdout",
     "output_type": "stream",
     "text": [
      "   A  B  C\n",
      "1  8  2  7\n",
      "2  6  9  4\n",
      "4  9  1  2\n"
     ]
    }
   ],
   "source": [
    "import pandas as pd\n",
    "\n",
    "def select_rows(df):\n",
    "    # Select rows where 'A' > 5 and 'B' < 10\n",
    "    selected_rows = df[(df['A'] > 5) & (df['B'] < 10)]\n",
    "    return selected_rows\n",
    "# Create a sample DataFrame with columns 'A', 'B', and 'C'\n",
    "df = pd.DataFrame({'A': [3, 8, 6, 2, 9],\n",
    "                   'B': [5, 2, 9, 3, 1],\n",
    "                   'C': [1, 7, 4, 5, 2]})\n",
    "#print(df)\n",
    "\n",
    "# Call the select_rows() function to select rows based on conditions on 'A' and 'B'\n",
    "selected_df = select_rows(df)\n",
    "\n",
    "# Print the resulting DataFrame\n",
    "print(selected_df)\n"
   ]
  },
  {
   "cell_type": "markdown",
   "id": "be090ed0",
   "metadata": {},
   "source": [
    "#### Q9. Given a Pandas DataFrame df with a column 'Values', write a Python function to calculate the mean, median, and standard deviation of the values in the 'Values' column."
   ]
  },
  {
   "cell_type": "markdown",
   "id": "b9f5c58e",
   "metadata": {},
   "source": [
    "#### Answer:"
   ]
  },
  {
   "cell_type": "code",
   "execution_count": 38,
   "id": "b8a54b67",
   "metadata": {},
   "outputs": [
    {
     "name": "stdout",
     "output_type": "stream",
     "text": [
      "Mean: 5.50\n",
      "Median: 5.50\n",
      "Standard Deviation: 3.03\n"
     ]
    }
   ],
   "source": [
    "import pandas as pd\n",
    "\n",
    "def calculate_statistics(df):\n",
    "    # Calculate mean, median, and standard deviation of 'Values' column\n",
    "    mean = df['Values'].mean()\n",
    "    median = df['Values'].median()\n",
    "    std_dev = df['Values'].std()\n",
    "    \n",
    "    # Print the calculated statistics\n",
    "    print(f\"Mean: {mean:.2f}\")\n",
    "    print(f\"Median: {median:.2f}\")\n",
    "    print(f\"Standard Deviation: {std_dev:.2f}\")\n",
    "    \n",
    "df = pd.DataFrame({'Values': [1, 2, 3, 4, 5,6,7,8,9,10]})\n",
    "\n",
    "# Call the calculate_stats() function to calculate statistics for the 'Values' column\n",
    "calculate_statistics(df)\n"
   ]
  },
  {
   "cell_type": "markdown",
   "id": "1700d5b7",
   "metadata": {},
   "source": [
    "#### Q10. Given a Pandas DataFrame df with a column 'Sales' and a column 'Date', write a Python function to create a new column 'MovingAverage' that contains the moving average of the sales for the past 7 days for each row in the DataFrame. The moving average should be calculated using a window of size 7 and should include the current day."
   ]
  },
  {
   "cell_type": "markdown",
   "id": "09a08001",
   "metadata": {},
   "source": [
    "#### Answer:"
   ]
  },
  {
   "cell_type": "code",
   "execution_count": 41,
   "id": "bd09b47c",
   "metadata": {},
   "outputs": [
    {
     "data": {
      "text/html": [
       "<div>\n",
       "<style scoped>\n",
       "    .dataframe tbody tr th:only-of-type {\n",
       "        vertical-align: middle;\n",
       "    }\n",
       "\n",
       "    .dataframe tbody tr th {\n",
       "        vertical-align: top;\n",
       "    }\n",
       "\n",
       "    .dataframe thead th {\n",
       "        text-align: right;\n",
       "    }\n",
       "</style>\n",
       "<table border=\"1\" class=\"dataframe\">\n",
       "  <thead>\n",
       "    <tr style=\"text-align: right;\">\n",
       "      <th></th>\n",
       "      <th>Date</th>\n",
       "      <th>MovingAverage</th>\n",
       "    </tr>\n",
       "  </thead>\n",
       "  <tbody>\n",
       "    <tr>\n",
       "      <th>0</th>\n",
       "      <td>2022-01-01</td>\n",
       "      <td>NaN</td>\n",
       "    </tr>\n",
       "    <tr>\n",
       "      <th>1</th>\n",
       "      <td>2022-01-02</td>\n",
       "      <td>NaN</td>\n",
       "    </tr>\n",
       "    <tr>\n",
       "      <th>2</th>\n",
       "      <td>2022-01-03</td>\n",
       "      <td>NaN</td>\n",
       "    </tr>\n",
       "    <tr>\n",
       "      <th>3</th>\n",
       "      <td>2022-01-04</td>\n",
       "      <td>NaN</td>\n",
       "    </tr>\n",
       "    <tr>\n",
       "      <th>4</th>\n",
       "      <td>2022-01-05</td>\n",
       "      <td>NaN</td>\n",
       "    </tr>\n",
       "    <tr>\n",
       "      <th>5</th>\n",
       "      <td>2022-01-06</td>\n",
       "      <td>NaN</td>\n",
       "    </tr>\n",
       "    <tr>\n",
       "      <th>6</th>\n",
       "      <td>2022-01-07</td>\n",
       "      <td>838.571429</td>\n",
       "    </tr>\n",
       "    <tr>\n",
       "      <th>7</th>\n",
       "      <td>2022-01-08</td>\n",
       "      <td>724.000000</td>\n",
       "    </tr>\n",
       "    <tr>\n",
       "      <th>8</th>\n",
       "      <td>2022-01-09</td>\n",
       "      <td>749.428571</td>\n",
       "    </tr>\n",
       "    <tr>\n",
       "      <th>9</th>\n",
       "      <td>2022-01-10</td>\n",
       "      <td>730.000000</td>\n",
       "    </tr>\n",
       "  </tbody>\n",
       "</table>\n",
       "</div>"
      ],
      "text/plain": [
       "        Date  MovingAverage\n",
       "0 2022-01-01            NaN\n",
       "1 2022-01-02            NaN\n",
       "2 2022-01-03            NaN\n",
       "3 2022-01-04            NaN\n",
       "4 2022-01-05            NaN\n",
       "5 2022-01-06            NaN\n",
       "6 2022-01-07     838.571429\n",
       "7 2022-01-08     724.000000\n",
       "8 2022-01-09     749.428571\n",
       "9 2022-01-10     730.000000"
      ]
     },
     "execution_count": 41,
     "metadata": {},
     "output_type": "execute_result"
    }
   ],
   "source": [
    "import numpy as np\n",
    "\n",
    "\n",
    "def calculate_moving_average(df):\n",
    "    # Set the 'Date' column as the DataFrame's index\n",
    "    df.set_index('Date', inplace=True)\n",
    "    \n",
    "    # Calculate the moving average with a window of size 7\n",
    "    ma = df.rolling(window=7).mean()\n",
    "    \n",
    "    # Rename the 'Sales' column to 'MovingAverage'\n",
    "    ma.rename(columns={'Sales': 'MovingAverage'}, inplace=True)\n",
    "    \n",
    "    # Reset the index to turn the 'Date' column back into a regular column\n",
    "    ma.reset_index(inplace=True)\n",
    "    \n",
    "    return ma\n",
    "\n",
    "dates = pd.date_range('20220101', periods=10)\n",
    "sales = np.random.randint(100, 1000, 10)\n",
    "\n",
    "# Create the DataFrame\n",
    "df = pd.DataFrame({'Date': dates, 'Sales': sales})\n",
    "\n",
    "# Calling the function\n",
    "calculate_moving_average(df)\n"
   ]
  },
  {
   "cell_type": "markdown",
   "id": "91c3cde8",
   "metadata": {},
   "source": [
    "#### Q11. You have a Pandas DataFrame df with a column 'Date'. Write a Python function that creates a new column 'Weekday' in the DataFrame. The 'Weekday' column should contain the weekday name (e.g. Monday, Tuesday) corresponding to each date in the 'Date' column.\n",
    "\n",
    "#### For example, if df contains the following values:\n",
    "\n",
    "Date\n",
    "\n",
    "0 2023-01-01\n",
    "\n",
    "1 2023-01-02\n",
    "\n",
    "2 2023-01-03\n",
    "\n",
    "3 2023-01-04\n",
    "\n",
    "4 2023-01-05\n",
    "\n",
    "#### Your function should create the following DataFrame:\n",
    "\n",
    "    Date Weekday\n",
    "    \n",
    "0 2023-01-01 Sunday\n",
    "\n",
    "1 2023-01-02 Monday\n",
    "\n",
    "2 2023-01-03 Tuesday\n",
    "\n",
    "3 2023-01-04 Wednesday\n",
    "\n",
    "4 2023-01-05 Thursday\n",
    "\n",
    "#### The function should return the modified DataFrame."
   ]
  },
  {
   "cell_type": "markdown",
   "id": "d67af0f7",
   "metadata": {},
   "source": [
    "#### Answer :"
   ]
  },
  {
   "cell_type": "code",
   "execution_count": 44,
   "id": "3721ba7d",
   "metadata": {},
   "outputs": [
    {
     "name": "stdout",
     "output_type": "stream",
     "text": [
      "        Date\n",
      "0 2022-01-01\n",
      "1 2022-01-02\n",
      "2 2022-01-03\n",
      "3 2022-01-04\n",
      "4 2022-01-05\n",
      "5 2022-01-06\n",
      "6 2022-01-07\n",
      "        Date    Weekday\n",
      "0 2022-01-01   Saturday\n",
      "1 2022-01-02     Sunday\n",
      "2 2022-01-03     Monday\n",
      "3 2022-01-04    Tuesday\n",
      "4 2022-01-05  Wednesday\n",
      "5 2022-01-06   Thursday\n",
      "6 2022-01-07     Friday\n"
     ]
    }
   ],
   "source": [
    "# Create a sample DataFrame\n",
    "dates = pd.date_range('2022-01-01', periods=7)\n",
    "df = pd.DataFrame({'Date': dates})\n",
    "print(df)\n",
    "# Create the 'Weekday' column\n",
    "df['Weekday'] = df['Date'].dt.day_name()\n",
    "\n",
    "print(df)"
   ]
  },
  {
   "cell_type": "markdown",
   "id": "1779f3dd",
   "metadata": {},
   "source": [
    "#### Q12. Given a Pandas DataFrame df with a column 'Date' that contains timestamps, write a Python function to select all rows where the date is between '2023-01-01' and '2023-01-31'."
   ]
  },
  {
   "cell_type": "markdown",
   "id": "2cf66582",
   "metadata": {},
   "source": [
    "#### Answer:"
   ]
  },
  {
   "cell_type": "code",
   "execution_count": 47,
   "id": "dadef511",
   "metadata": {},
   "outputs": [
    {
     "name": "stdout",
     "output_type": "stream",
     "text": [
      "         Date\n",
      "51 2023-01-01\n",
      "52 2023-01-02\n",
      "53 2023-01-03\n",
      "54 2023-01-04\n",
      "55 2023-01-05\n",
      "56 2023-01-06\n",
      "57 2023-01-07\n",
      "58 2023-01-08\n",
      "59 2023-01-09\n",
      "60 2023-01-10\n",
      "61 2023-01-11\n",
      "62 2023-01-12\n",
      "63 2023-01-13\n",
      "64 2023-01-14\n",
      "65 2023-01-15\n",
      "66 2023-01-16\n",
      "67 2023-01-17\n",
      "68 2023-01-18\n",
      "69 2023-01-19\n",
      "70 2023-01-20\n",
      "71 2023-01-21\n",
      "72 2023-01-22\n",
      "73 2023-01-23\n",
      "74 2023-01-24\n",
      "75 2023-01-25\n",
      "76 2023-01-26\n",
      "77 2023-01-27\n",
      "78 2023-01-28\n",
      "79 2023-01-29\n",
      "80 2023-01-30\n",
      "81 2023-01-31\n"
     ]
    }
   ],
   "source": [
    "import pandas as pd\n",
    "\n",
    "def select_rows_between_dates(df):\n",
    "    # Convert the 'Date' column to a pandas datetime object\n",
    "    df['Date'] = pd.to_datetime(df['Date'])\n",
    "    \n",
    "    # Filter rows where the date is between '2023-01-01' and '2023-01-31'\n",
    "    mask = (df['Date'] >= '2023-01-01') & (df['Date'] <= '2023-01-31')\n",
    "    filtered_df = df.loc[mask]\n",
    "    \n",
    "    return filtered_df\n",
    "\n",
    "# Create a sample DataFrame\n",
    "dates = pd.date_range('2022-11-11', periods=100)\n",
    "df = pd.DataFrame({'Date': dates})\n",
    "#print(df)\n",
    "\n",
    "filtered_df = select_rows_between_dates(df)\n",
    "print(filtered_df)"
   ]
  },
  {
   "cell_type": "markdown",
   "id": "4cd37be8",
   "metadata": {},
   "source": [
    "#### Q13. To use the basic functions of pandas, what is the first and foremost necessary library that needs to be imported?"
   ]
  },
  {
   "cell_type": "markdown",
   "id": "a45824d7",
   "metadata": {},
   "source": [
    "#### Answer:\n",
    "The first and foremost library that needs to be imported to use the basic functions of pandas is pandas itself.\n",
    "Pandas is an open-source data manipulation library for Python that provides data structures for efficiently storing and manipulating large datasets. It is built on top of NumPy, another popular Python library for numerical computing, and is often used in conjunction with other libraries such as Matplotlib and Scikit-learn for data analysis and machine learning tasks.\n",
    "\n",
    "Pandas provides two primary data structures: Series and DataFrame. A Series is a one-dimensional array-like object that can hold any data type, while a DataFrame is a two-dimensional table-like structure with columns of potentially different data types. Pandas also provides many functions for reading and writing data in different formats, cleaning and transforming data, selecting and filtering data, and performing various statistical and mathematical operations on data.\n",
    "\n",
    "Overall, pandas is a powerful and flexible library for data analysis and manipulation that is widely used in both industry and academia."
   ]
  },
  {
   "cell_type": "code",
   "execution_count": null,
   "id": "6f1e09ea",
   "metadata": {},
   "outputs": [],
   "source": []
  }
 ],
 "metadata": {
  "kernelspec": {
   "display_name": "Python 3 (ipykernel)",
   "language": "python",
   "name": "python3"
  },
  "language_info": {
   "codemirror_mode": {
    "name": "ipython",
    "version": 3
   },
   "file_extension": ".py",
   "mimetype": "text/x-python",
   "name": "python",
   "nbconvert_exporter": "python",
   "pygments_lexer": "ipython3",
   "version": "3.9.12"
  }
 },
 "nbformat": 4,
 "nbformat_minor": 5
}
