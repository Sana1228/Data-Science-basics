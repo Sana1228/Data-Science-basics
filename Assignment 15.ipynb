{
 "cells": [
  {
   "cell_type": "markdown",
   "id": "39fae402",
   "metadata": {},
   "source": [
    "#### Q1. What is a database? Differentiate between SQL and NoSQL databases."
   ]
  },
  {
   "cell_type": "markdown",
   "id": "80afdc13",
   "metadata": {},
   "source": [
    "#### Answer:\n",
    "A database is an organized collection of data that can be accessed, managed, and updated easily. It provides a structured way of storing and retrieving information.\n",
    "\n",
    "SQL (Structured Query Language) and NoSQL (Not Only SQL) are two different types of databases that differ in their data storage models and query languages.\n",
    "\n",
    "SQL databases are relational databases that store data in tables and use a standardized language called SQL to access and manage the data. SQL databases are based on the concept of tables that are linked together by relationships, allowing for complex queries and data analysis. Some popular examples of SQL databases are MySQL, Oracle, and PostgreSQL.\n",
    "\n",
    "On the other hand, NoSQL databases use a non-tabular format to store data, making them more flexible and scalable. NoSQL databases can store data in different formats, including key-value stores, document-oriented databases, and graph databases. NoSQL databases do not require a fixed schema, which allows for easier scalability and faster processing of data. Examples of NoSQL databases include MongoDB, Cassandra, and Redis."
   ]
  },
  {
   "cell_type": "markdown",
   "id": "55eb9880",
   "metadata": {},
   "source": [
    "#### Q2. What is DDL? Explain why CREATE, DROP, ALTER, and TRUNCATE are used with an example."
   ]
  },
  {
   "cell_type": "markdown",
   "id": "d85ebd33",
   "metadata": {},
   "source": [
    "#### Answer:\n",
    "DDL stands for Data Definition Language and is a set of SQL statements that are used to create, modify, and delete database objects such as tables, indexes, and views.\n",
    "\n",
    "The following are the commonly used DDL statements:\n",
    "\n",
    "CREATE - The CREATE statement is used to create a new database object, such as a table, view, or index. For example, the following SQL statement creates a new table named \"employees\" with four columns: id, name, age, and salary.\n"
   ]
  },
  {
   "cell_type": "raw",
   "id": "feddbd76",
   "metadata": {},
   "source": [
    "CREATE TABLE employees (\n",
    "    id INT PRIMARY KEY,\n",
    "    name VARCHAR(50),\n",
    "    age INT,\n",
    "    salary DECIMAL(10,2)\n",
    ");"
   ]
  },
  {
   "cell_type": "markdown",
   "id": "d2b01b2a",
   "metadata": {},
   "source": [
    "DROP - The DROP statement is used to delete a database object, such as a table, view, or index. For example, the following SQL statement drops the \"employees\" table:"
   ]
  },
  {
   "cell_type": "raw",
   "id": "c4598311",
   "metadata": {},
   "source": [
    "DROP TABLE employees;"
   ]
  },
  {
   "cell_type": "markdown",
   "id": "ed34fdc7",
   "metadata": {},
   "source": [
    "ALTER - The ALTER statement is used to modify the structure of an existing database object. For example, the following SQL statement adds a new column named \"email\" to the \"employees\" table:"
   ]
  },
  {
   "cell_type": "raw",
   "id": "3bb49bdc",
   "metadata": {},
   "source": [
    "ALTER TABLE employees ADD COLUMN email VARCHAR(50);"
   ]
  },
  {
   "cell_type": "markdown",
   "id": "78b986cb",
   "metadata": {},
   "source": [
    "TRUNCATE - The TRUNCATE statement is used to remove all the data from a table while keeping the structure intact. For example, the following SQL statement removes all the data from the \"employees\" table:"
   ]
  },
  {
   "cell_type": "raw",
   "id": "2d17ab13",
   "metadata": {},
   "source": [
    "TRUNCATE TABLE employees;"
   ]
  },
  {
   "cell_type": "markdown",
   "id": "573030b8",
   "metadata": {},
   "source": [
    "#### Q3. What is DML? Explain INSERT, UPDATE, and DELETE with an example."
   ]
  },
  {
   "cell_type": "markdown",
   "id": "bd78dfbc",
   "metadata": {},
   "source": [
    "#### Answer:\n",
    "DML stands for Data Manipulation Language and is a set of SQL statements that are used to manipulate data within the database.\n",
    "\n",
    "The following are the commonly used DML statements:\n",
    "\n",
    "INSERT - The INSERT statement is used to insert new data into a table. For example, the following SQL statement inserts a new row into the \"employees\" table:"
   ]
  },
  {
   "cell_type": "raw",
   "id": "fb341f4b",
   "metadata": {},
   "source": [
    "INSERT INTO employees (id, name, age, salary) VALUES (1, 'John', 30, 50000.00);"
   ]
  },
  {
   "cell_type": "markdown",
   "id": "84646b2d",
   "metadata": {},
   "source": [
    "UPDATE - The UPDATE statement is used to modify existing data in a table. For example, the following SQL statement updates the salary of the employee with an ID of 1:"
   ]
  },
  {
   "cell_type": "raw",
   "id": "8215dfb4",
   "metadata": {},
   "source": [
    "UPDATE employees SET salary = 55000.00 WHERE id = 1;"
   ]
  },
  {
   "cell_type": "markdown",
   "id": "2c26ecc3",
   "metadata": {},
   "source": [
    "DELETE - The DELETE statement is used to delete existing data from a table. For example, the following SQL statement deletes the employee with an ID of 1 from the \"employees\" table:"
   ]
  },
  {
   "cell_type": "raw",
   "id": "63fa5e34",
   "metadata": {},
   "source": [
    "DELETE FROM employees WHERE id = 1;"
   ]
  },
  {
   "cell_type": "markdown",
   "id": "8fd5744d",
   "metadata": {},
   "source": [
    "#### Q4. What is DQL? Explain SELECT with an example."
   ]
  },
  {
   "cell_type": "markdown",
   "id": "604c390f",
   "metadata": {},
   "source": [
    "#### Answer:\n",
    "DQL stands for Data Query Language and is a subset of SQL that is used to retrieve data from the database. The most commonly used DQL statement is SELECT.\n",
    "\n",
    "The SELECT statement is used to query data from one or more tables in the database. It allows you to specify the columns you want to retrieve, the table or tables you want to query, and the conditions that the data must meet.\n",
    "\n",
    "Here is an example of a SELECT statement:"
   ]
  },
  {
   "cell_type": "raw",
   "id": "e2e9f350",
   "metadata": {},
   "source": [
    "SELECT id, name, age, salary\n",
    "FROM employees\n",
    "WHERE age > 25\n",
    "ORDER BY salary DESC;"
   ]
  },
  {
   "cell_type": "markdown",
   "id": "4a2087b8",
   "metadata": {},
   "source": [
    "This SELECT statement retrieves data from the \"employees\" table and specifies that only the \"id\", \"name\", \"age\", and \"salary\" columns should be returned. It also specifies that only rows where the \"age\" column is greater than 25 should be included. Finally, it orders the results by the \"salary\" column in descending order.\n",
    "\n",
    "The result set returned by this SELECT statement would be a table containing the columns \"id\", \"name\", \"age\", and \"salary\" for all employees who are over 25 years old, ordered by salary in descending order."
   ]
  },
  {
   "cell_type": "markdown",
   "id": "e9360893",
   "metadata": {},
   "source": [
    "#### Q5. Explain Primary Key and Foreign Key."
   ]
  },
  {
   "cell_type": "markdown",
   "id": "fa4153fc",
   "metadata": {},
   "source": [
    "#### Answer:\n",
    "In database design, a primary key and a foreign key are used to establish relationships between two or more tables.\n",
    "\n",
    "A primary key is a column or a set of columns in a table that uniquely identifies each row in the table. It must be unique and not null for each row in the table. A primary key can be a single column or a combination of columns. It is used to ensure the integrity of the data and to provide a way to reference specific rows in a table from other tables.\n",
    "\n",
    "For example, in a table of employees, the primary key may be the employee ID column. This ensures that each employee in the table has a unique ID, and that ID can be used to reference specific employees from other tables.\n",
    "\n",
    "A foreign key, on the other hand, is a column or a set of columns in a table that refers to the primary key of another table. It establishes a link between two tables and ensures the referential integrity of the data. A foreign key can be used to enforce business rules or to create relationships between tables.\n",
    "\n",
    "For example, in a table of orders, a foreign key may be the customer ID column. This column would reference the primary key of the customers table, ensuring that each order is associated with a specific customer."
   ]
  },
  {
   "cell_type": "markdown",
   "id": "b83f044f",
   "metadata": {},
   "source": [
    "#### Q6. Write a python code to connect MySQL to python. Explain the cursor() and execute() method."
   ]
  },
  {
   "cell_type": "markdown",
   "id": "74cfb064",
   "metadata": {},
   "source": [
    "#### Answer:\n",
    "To connect MySQL to Python, you need to install the mysql-connector-python package. You can install it using pip by running the following command in the terminal:"
   ]
  },
  {
   "cell_type": "code",
   "execution_count": 2,
   "id": "9e842259",
   "metadata": {},
   "outputs": [
    {
     "name": "stdout",
     "output_type": "stream",
     "text": [
      "Collecting mysql-connector-python\n",
      "  Downloading mysql_connector_python-8.0.32-cp39-cp39-win_amd64.whl (7.9 MB)\n",
      "Requirement already satisfied: protobuf<=3.20.3,>=3.11.0 in c:\\users\\sanas\\anaconda3\\lib\\site-packages (from mysql-connector-python) (3.19.1)\n",
      "Installing collected packages: mysql-connector-python\n",
      "Successfully installed mysql-connector-python-8.0.32\n",
      "Note: you may need to restart the kernel to use updated packages.\n"
     ]
    }
   ],
   "source": [
    "pip install mysql-connector-python"
   ]
  },
  {
   "cell_type": "markdown",
   "id": "c26f1191",
   "metadata": {},
   "source": [
    "Once installed, you can connect to MySQL using the following Python code:"
   ]
  },
  {
   "cell_type": "raw",
   "id": "627c41f7",
   "metadata": {},
   "source": [
    "import mysql.connector\n",
    "\n",
    "# Establish a connection to the database\n",
    "mydb = mysql.connector.connect(\n",
    "  host=\"localhost\",\n",
    "  user=\"yourusername\",\n",
    "  password=\"yourpassword\",\n",
    "  database=\"yourdatabase\"\n",
    ")\n",
    "\n",
    "# Create a cursor object\n",
    "mycursor = mydb.cursor()\n",
    "\n",
    "# Execute a SQL query\n",
    "mycursor.execute(\"SELECT * FROM customers\")\n",
    "\n",
    "# Fetch the results\n",
    "results = mycursor.fetchall()\n",
    "\n",
    "# Print the results\n",
    "for result in results:\n",
    "  print(result)\n"
   ]
  },
  {
   "cell_type": "markdown",
   "id": "bcf73978",
   "metadata": {},
   "source": [
    "In this code, we first import the mysql.connector module. We then establish a connection to the MySQL database by providing the host, user, password, and database details. Once the connection is established, we create a cursor object using the cursor() method.\n",
    "\n",
    "The cursor object is used to execute SQL queries and fetch the results. The execute() method is used to execute the SQL query, and the fetchall() method is used to fetch all the rows of the result set. The execute() method takes an SQL query as its argument.\n",
    "\n",
    "Finally, we loop through the results and print them out.\n",
    "\n",
    "In summary, the cursor() method is used to create a cursor object, and the execute() method is used to execute SQL queries. Together, they allow you to interact with the database using Python."
   ]
  },
  {
   "cell_type": "markdown",
   "id": "b6b2e416",
   "metadata": {},
   "source": [
    "#### Q7. Give the order of execution of SQL clauses in an SQL query."
   ]
  },
  {
   "cell_type": "markdown",
   "id": "b4c26043",
   "metadata": {},
   "source": [
    "#### Answer:\n",
    "In an SQL query, the order of execution of clauses is as follows:\n",
    "\n",
    "FROM clause: The FROM clause specifies the tables from which data is retrieved.\n",
    "\n",
    "JOIN clause: If multiple tables are specified in the FROM clause, the JOIN clause is used to join the tables based on a common column.\n",
    "\n",
    "WHERE clause: The WHERE clause filters the data based on a specified condition.\n",
    "\n",
    "GROUP BY clause: The GROUP BY clause groups the data based on a specified column or set of columns.\n",
    "\n",
    "HAVING clause: The HAVING clause filters the grouped data based on a specified condition.\n",
    "\n",
    "SELECT clause: The SELECT clause selects the columns to be displayed in the output.\n",
    "\n",
    "ORDER BY clause: The ORDER BY clause sorts the data in ascending or descending order based on a specified column or set of columns.\n",
    "\n",
    "LIMIT clause: The LIMIT clause limits the number of rows returned in the output."
   ]
  },
  {
   "cell_type": "code",
   "execution_count": null,
   "id": "bc855102",
   "metadata": {},
   "outputs": [],
   "source": []
  }
 ],
 "metadata": {
  "kernelspec": {
   "display_name": "Python 3 (ipykernel)",
   "language": "python",
   "name": "python3"
  },
  "language_info": {
   "codemirror_mode": {
    "name": "ipython",
    "version": 3
   },
   "file_extension": ".py",
   "mimetype": "text/x-python",
   "name": "python",
   "nbconvert_exporter": "python",
   "pygments_lexer": "ipython3",
   "version": "3.9.12"
  }
 },
 "nbformat": 4,
 "nbformat_minor": 5
}
